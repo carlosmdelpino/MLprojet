{
 "cells": [
  {
   "cell_type": "code",
   "execution_count": 1,
   "metadata": {},
   "outputs": [],
   "source": [
    "import pandas as pd\n",
    "import numpy as np\n",
    "import matplotlib as mpl\n",
    "import matplotlib.pyplot as plt\n",
    "import seaborn as sns\n",
    "import random\n",
    "from sklearn.model_selection import validation_curve\n",
    "from sklearn.metrics import f1_score\n",
    "from sklearn.metrics import (ConfusionMatrixDisplay, accuracy_score,\n",
    "                             confusion_matrix, log_loss)\n",
    "from sklearn.metrics import roc_curve, auc\n",
    "import matplotlib.pyplot as plt\n",
    "from sklearn.feature_selection import SelectKBest, f_classif, chi2\n",
    "from sklearn.compose import ColumnTransformer\n",
    "from sklearn.pipeline import Pipeline\n",
    "from sklearn.impute import SimpleImputer\n",
    "from sklearn.ensemble import GradientBoostingClassifier, RandomForestClassifier\n",
    "from sklearn.preprocessing import StandardScaler, OneHotEncoder, MinMaxScaler\n",
    "from sklearn.linear_model import LogisticRegression\n",
    "from sklearn.metrics import log_loss\n",
    "from sklearn.naive_bayes import GaussianNB\n",
    "from sklearn.neighbors import KNeighborsClassifier\n",
    "from sklearn.model_selection import RandomizedSearchCV, train_test_split\n",
    "from sklearn.discriminant_analysis import LinearDiscriminantAnalysis"
   ]
  },
  {
   "attachments": {},
   "cell_type": "markdown",
   "metadata": {},
   "source": [
    "We develop here how we have treated the data in order to fit the model ini the best way possible using KNN"
   ]
  },
  {
   "cell_type": "code",
   "execution_count": 10,
   "metadata": {},
   "outputs": [
    {
     "data": {
      "text/html": [
       "<div>\n",
       "<style scoped>\n",
       "    .dataframe tbody tr th:only-of-type {\n",
       "        vertical-align: middle;\n",
       "    }\n",
       "\n",
       "    .dataframe tbody tr th {\n",
       "        vertical-align: top;\n",
       "    }\n",
       "\n",
       "    .dataframe thead th {\n",
       "        text-align: right;\n",
       "    }\n",
       "</style>\n",
       "<table border=\"1\" class=\"dataframe\">\n",
       "  <thead>\n",
       "    <tr style=\"text-align: right;\">\n",
       "      <th></th>\n",
       "      <th>X1</th>\n",
       "      <th>X2</th>\n",
       "      <th>X3</th>\n",
       "      <th>X4</th>\n",
       "      <th>X5</th>\n",
       "      <th>X6</th>\n",
       "      <th>X7</th>\n",
       "      <th>X8</th>\n",
       "      <th>X9</th>\n",
       "      <th>X10</th>\n",
       "      <th>X11</th>\n",
       "      <th>X12</th>\n",
       "      <th>Y</th>\n",
       "    </tr>\n",
       "  </thead>\n",
       "  <tbody>\n",
       "    <tr>\n",
       "      <th>0</th>\n",
       "      <td>3215.0</td>\n",
       "      <td>206.0</td>\n",
       "      <td>8.0</td>\n",
       "      <td>127.0</td>\n",
       "      <td>14.0</td>\n",
       "      <td>5588.0</td>\n",
       "      <td>215.0</td>\n",
       "      <td>248.0</td>\n",
       "      <td>168.0</td>\n",
       "      <td>1057.0</td>\n",
       "      <td>T1</td>\n",
       "      <td>T29</td>\n",
       "      <td>1.0</td>\n",
       "    </tr>\n",
       "    <tr>\n",
       "      <th>1</th>\n",
       "      <td>3022.0</td>\n",
       "      <td>18.0</td>\n",
       "      <td>7.0</td>\n",
       "      <td>0.0</td>\n",
       "      <td>0.0</td>\n",
       "      <td>3012.0</td>\n",
       "      <td>215.0</td>\n",
       "      <td>226.0</td>\n",
       "      <td>148.0</td>\n",
       "      <td>1476.0</td>\n",
       "      <td>T1</td>\n",
       "      <td>T23</td>\n",
       "      <td>1.0</td>\n",
       "    </tr>\n",
       "    <tr>\n",
       "      <th>2</th>\n",
       "      <td>3008.0</td>\n",
       "      <td>18.0</td>\n",
       "      <td>19.0</td>\n",
       "      <td>382.0</td>\n",
       "      <td>92.0</td>\n",
       "      <td>4715.0</td>\n",
       "      <td>201.0</td>\n",
       "      <td>197.0</td>\n",
       "      <td>127.0</td>\n",
       "      <td>3616.0</td>\n",
       "      <td>T1</td>\n",
       "      <td>T29</td>\n",
       "      <td>1.0</td>\n",
       "    </tr>\n",
       "    <tr>\n",
       "      <th>3</th>\n",
       "      <td>2595.0</td>\n",
       "      <td>296.0</td>\n",
       "      <td>24.0</td>\n",
       "      <td>85.0</td>\n",
       "      <td>28.0</td>\n",
       "      <td>1252.0</td>\n",
       "      <td>144.0</td>\n",
       "      <td>224.0</td>\n",
       "      <td>216.0</td>\n",
       "      <td>780.0</td>\n",
       "      <td>T3</td>\n",
       "      <td>T33</td>\n",
       "      <td>6.0</td>\n",
       "    </tr>\n",
       "    <tr>\n",
       "      <th>4</th>\n",
       "      <td>3261.0</td>\n",
       "      <td>87.0</td>\n",
       "      <td>4.0</td>\n",
       "      <td>42.0</td>\n",
       "      <td>-2.0</td>\n",
       "      <td>3719.0</td>\n",
       "      <td>226.0</td>\n",
       "      <td>233.0</td>\n",
       "      <td>142.0</td>\n",
       "      <td>3784.0</td>\n",
       "      <td>T1</td>\n",
       "      <td>T38</td>\n",
       "      <td>7.0</td>\n",
       "    </tr>\n",
       "  </tbody>\n",
       "</table>\n",
       "</div>"
      ],
      "text/plain": [
       "       X1     X2    X3     X4    X5      X6     X7     X8     X9     X10 X11  \\\n",
       "0  3215.0  206.0   8.0  127.0  14.0  5588.0  215.0  248.0  168.0  1057.0  T1   \n",
       "1  3022.0   18.0   7.0    0.0   0.0  3012.0  215.0  226.0  148.0  1476.0  T1   \n",
       "2  3008.0   18.0  19.0  382.0  92.0  4715.0  201.0  197.0  127.0  3616.0  T1   \n",
       "3  2595.0  296.0  24.0   85.0  28.0  1252.0  144.0  224.0  216.0   780.0  T3   \n",
       "4  3261.0   87.0   4.0   42.0  -2.0  3719.0  226.0  233.0  142.0  3784.0  T1   \n",
       "\n",
       "   X12    Y  \n",
       "0  T29  1.0  \n",
       "1  T23  1.0  \n",
       "2  T29  1.0  \n",
       "3  T33  6.0  \n",
       "4  T38  7.0  "
      ]
     },
     "execution_count": 10,
     "metadata": {},
     "output_type": "execute_result"
    }
   ],
   "source": [
    "df_train = pd.read_csv('data/train.csv')\n",
    "df_train.dropna(subset=['Y'], inplace=True)\n",
    "\n",
    "X = df_train.drop('Y', axis = 1)\n",
    "y = df_train['Y']\n",
    "\n",
    "\n",
    "X_test_prueb = pd.read_csv('data/Xtest.csv')\n",
    "df_train.head()"
   ]
  },
  {
   "cell_type": "code",
   "execution_count": 11,
   "metadata": {},
   "outputs": [],
   "source": [
    "\n",
    "numeric_variables_missing = ['X1','X2','X3', 'X4', 'X5', 'X6','X7', 'X8', 'X9', 'X10']\n",
    "\n",
    "categorical_variables_missing = ['X11','X12']\n",
    "\n",
    "categorical_variables = ['X11', 'X12']\n",
    "imputer = SimpleImputer(strategy='mean')\n",
    "X[numeric_variables_missing] = imputer.fit_transform(X[numeric_variables_missing])\n",
    "imputer = SimpleImputer(strategy='most_frequent')\n",
    "X[categorical_variables_missing] = imputer.fit_transform(X[categorical_variables_missing])\n",
    "\n",
    "X['X11'] = X['X11'].astype('category')\n",
    "X['X12'] = X['X12'].astype('category')"
   ]
  },
  {
   "cell_type": "code",
   "execution_count": 12,
   "metadata": {},
   "outputs": [],
   "source": [
    "X = X.astype({'X11':'category', 'X12': 'category'})\n",
    "X_test_prueb = X_test_prueb.astype({'X11':'category', 'X12':'category'})"
   ]
  },
  {
   "attachments": {},
   "cell_type": "markdown",
   "metadata": {},
   "source": [
    "We split our initial trainning set in order to have the chance of testing how the model predicts in new data, also to aviod having overfitting."
   ]
  },
  {
   "cell_type": "code",
   "execution_count": 13,
   "metadata": {},
   "outputs": [],
   "source": [
    "X_train, X_test, y_train, y_test = train_test_split(X, y, test_size=0.2, random_state=42)"
   ]
  },
  {
   "cell_type": "code",
   "execution_count": null,
   "metadata": {},
   "outputs": [],
   "source": []
  },
  {
   "cell_type": "code",
   "execution_count": 14,
   "metadata": {},
   "outputs": [],
   "source": [
    "X_train_num  = X_train[['X1','X3','X4','X6', 'X10', 'X7']]\n",
    "X_train_cat = X_train[['X11']]\n",
    "X_test_num = X_test[['X1','X3','X4','X6', 'X10', 'X7']]\n",
    "X_test_cat = X_test[['X11']]\n"
   ]
  },
  {
   "cell_type": "code",
   "execution_count": 15,
   "metadata": {},
   "outputs": [
    {
     "name": "stderr",
     "output_type": "stream",
     "text": [
      "c:\\Users\\cmari\\AppData\\Local\\Programs\\Python\\Python311\\Lib\\site-packages\\sklearn\\preprocessing\\_encoders.py:828: FutureWarning: `sparse` was renamed to `sparse_output` in version 1.2 and will be removed in 1.4. `sparse_output` is ignored unless you leave `sparse` to its default value.\n",
      "  warnings.warn(\n",
      "c:\\Users\\cmari\\AppData\\Local\\Programs\\Python\\Python311\\Lib\\site-packages\\sklearn\\preprocessing\\_encoders.py:828: FutureWarning: `sparse` was renamed to `sparse_output` in version 1.2 and will be removed in 1.4. `sparse_output` is ignored unless you leave `sparse` to its default value.\n",
      "  warnings.warn(\n"
     ]
    }
   ],
   "source": [
    "ohe = OneHotEncoder(sparse=False)\n",
    "X_train_categorical_encoded = ohe.fit_transform(X_train_cat)\n",
    "X_test_cat_encoded = ohe.fit_transform(X_test_cat)"
   ]
  },
  {
   "cell_type": "code",
   "execution_count": 16,
   "metadata": {},
   "outputs": [],
   "source": [
    "X_train_num = np.concatenate((X_train_num, X_train_categorical_encoded), axis=1)\n",
    "X_test_num = np.concatenate((X_test_num, X_test_cat_encoded), axis=1)"
   ]
  },
  {
   "cell_type": "code",
   "execution_count": 17,
   "metadata": {},
   "outputs": [
    {
     "name": "stderr",
     "output_type": "stream",
     "text": [
      "c:\\Users\\cmari\\AppData\\Local\\Programs\\Python\\Python311\\Lib\\site-packages\\sklearn\\model_selection\\_search.py:305: UserWarning: The total space of parameters 1 is smaller than n_iter=10. Running 1 iterations. For exhaustive searches, use GridSearchCV.\n",
      "  warnings.warn(\n"
     ]
    },
    {
     "name": "stdout",
     "output_type": "stream",
     "text": [
      "Log loss: 1.3758880939276812\n",
      "Best hyperparameters: {}\n"
     ]
    }
   ],
   "source": [
    "param_grid_nb ={}\n",
    "nb = GaussianNB()\n",
    "\n",
    "default_grid_params = dict(n_iter=10, cv=5, n_jobs=4)\n",
    "model = RandomizedSearchCV(nb, param_grid_nb, scoring='neg_log_loss', **default_grid_params)\n",
    "\n",
    "default_grid_params = dict(n_iter=10, cv=5, n_jobs=4)\n",
    "\n",
    "model.fit(X_train_num, y_train)\n",
    "\n",
    "y_pred = model.predict(X_test_num)\n",
    "\n",
    "\n",
    "y_pred_proba = model.predict_proba(X_train_num)\n",
    "pred_prob_test = pd.DataFrame(model.predict_proba(X_test_num))\n",
    "pred_prob_test.rename(columns = {0: 'Y_1', 1: 'Y_2', 2: 'Y_3', 3: 'Y_4', 4: 'Y_5', 5:'Y_6', 6:'Y_7'}, inplace = True)\n",
    "idx = pred_prob_test.index\n",
    "pred_prob_test.insert(0, 'id', idx)\n",
    "\n",
    "test_log_loss = log_loss(y_train, y_pred_proba, labels=model.classes_)\n",
    "print('Log loss:', test_log_loss)\n",
    "print(f'Best hyperparameters: {model.best_params_}')"
   ]
  },
  {
   "cell_type": "code",
   "execution_count": 19,
   "metadata": {},
   "outputs": [
    {
     "data": {
      "image/png": "[encoded data removed]",
      "text/plain": [
       "<Figure size 800x600 with 2 Axes>"
      ]
     },
     "metadata": {},
     "output_type": "display_data"
    }
   ],
   "source": [
    "y_pred = model.predict(X_test_num)\n",
    "\n",
    "#In order to plot the confusion matrix\n",
    "cm = confusion_matrix(y_test, y_pred)\n",
    "\n",
    "#THis is for giving a specific color and plottinf it\n",
    "plt.figure(figsize=(8, 6))\n",
    "sns.heatmap(cm, annot=True, fmt='d', cmap='Blues')\n",
    "plt.title('Confusion Matrix')\n",
    "plt.xlabel('Predicted')\n",
    "plt.ylabel('True')\n",
    "plt.show()"
   ]
  }
 ],
 "metadata": {
  "kernelspec": {
   "display_name": "Python 3",
   "language": "python",
   "name": "python3"
  },
  "language_info": {
   "codemirror_mode": {
    "name": "ipython",
    "version": 3
   },
   "file_extension": ".py",
   "mimetype": "text/x-python",
   "name": "python",
   "nbconvert_exporter": "python",
   "pygments_lexer": "ipython3",
   "version": "3.11.2"
  },
  "orig_nbformat": 4
 },
 "nbformat": 4,
 "nbformat_minor": 2
}
