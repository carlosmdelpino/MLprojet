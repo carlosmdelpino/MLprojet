{
 "cells": [
  {
   "attachments": {},
   "cell_type": "markdown",
   "metadata": {},
   "source": [
    "Machine Learning Project\n",
    "(by Carlos María del Pino and Lamlih Houssam)\n",
    "In this part of the projet, we make all the data process. We try to analyze and conlude facts from the features"
   ]
  },
  {
   "attachments": {},
   "cell_type": "markdown",
   "metadata": {},
   "source": [
    "1. Import libraries"
   ]
  },
  {
   "cell_type": "code",
   "execution_count": 1,
   "metadata": {},
   "outputs": [],
   "source": [
    "import pandas as pd\n",
    "import numpy as np\n",
    "import matplotlib as mpl\n",
    "import matplotlib.pyplot as plt\n",
    "import seaborn as sns\n",
    "import random\n",
    "from sklearn.model_selection import validation_curve\n",
    "from sklearn.metrics import f1_score\n",
    "from sklearn.metrics import (ConfusionMatrixDisplay, accuracy_score,\n",
    "                             confusion_matrix, log_loss)\n",
    "from sklearn.metrics import roc_curve, auc\n",
    "import matplotlib.pyplot as plt\n",
    "from sklearn.feature_selection import SelectKBest, f_classif, chi2\n",
    "from sklearn.compose import ColumnTransformer\n",
    "from sklearn.pipeline import Pipeline\n",
    "from sklearn.impute import SimpleImputer\n",
    "from sklearn.ensemble import GradientBoostingClassifier, RandomForestClassifier\n",
    "from sklearn.preprocessing import StandardScaler, OneHotEncoder, MinMaxScaler\n",
    "from sklearn.linear_model import LogisticRegression\n",
    "from sklearn.metrics import log_loss\n",
    "from sklearn.naive_bayes import GaussianNB\n",
    "from sklearn.neighbors import KNeighborsClassifier\n",
    "from sklearn.model_selection import RandomizedSearchCV, train_test_split\n",
    "from sklearn.discriminant_analysis import LinearDiscriminantAnalysis"
   ]
  },
  {
   "attachments": {},
   "cell_type": "markdown",
   "metadata": {},
   "source": [
    "2. Reading the data and plotting some of lines"
   ]
  },
  {
   "cell_type": "code",
   "execution_count": 2,
   "metadata": {},
   "outputs": [
    {
     "data": {
      "text/html": [
       "<div>\n",
       "<style scoped>\n",
       "    .dataframe tbody tr th:only-of-type {\n",
       "        vertical-align: middle;\n",
       "    }\n",
       "\n",
       "    .dataframe tbody tr th {\n",
       "        vertical-align: top;\n",
       "    }\n",
       "\n",
       "    .dataframe thead th {\n",
       "        text-align: right;\n",
       "    }\n",
       "</style>\n",
       "<table border=\"1\" class=\"dataframe\">\n",
       "  <thead>\n",
       "    <tr style=\"text-align: right;\">\n",
       "      <th></th>\n",
       "      <th>X1</th>\n",
       "      <th>X2</th>\n",
       "      <th>X3</th>\n",
       "      <th>X4</th>\n",
       "      <th>X5</th>\n",
       "      <th>X6</th>\n",
       "      <th>X7</th>\n",
       "      <th>X8</th>\n",
       "      <th>X9</th>\n",
       "      <th>X10</th>\n",
       "      <th>X11</th>\n",
       "      <th>X12</th>\n",
       "      <th>Y</th>\n",
       "    </tr>\n",
       "  </thead>\n",
       "  <tbody>\n",
       "    <tr>\n",
       "      <th>0</th>\n",
       "      <td>3215.0</td>\n",
       "      <td>206.0</td>\n",
       "      <td>8.0</td>\n",
       "      <td>127.0</td>\n",
       "      <td>14.0</td>\n",
       "      <td>5588.0</td>\n",
       "      <td>215.0</td>\n",
       "      <td>248.0</td>\n",
       "      <td>168.0</td>\n",
       "      <td>1057.0</td>\n",
       "      <td>T1</td>\n",
       "      <td>T29</td>\n",
       "      <td>1.0</td>\n",
       "    </tr>\n",
       "    <tr>\n",
       "      <th>1</th>\n",
       "      <td>3022.0</td>\n",
       "      <td>18.0</td>\n",
       "      <td>7.0</td>\n",
       "      <td>0.0</td>\n",
       "      <td>0.0</td>\n",
       "      <td>3012.0</td>\n",
       "      <td>215.0</td>\n",
       "      <td>226.0</td>\n",
       "      <td>148.0</td>\n",
       "      <td>1476.0</td>\n",
       "      <td>T1</td>\n",
       "      <td>T23</td>\n",
       "      <td>1.0</td>\n",
       "    </tr>\n",
       "    <tr>\n",
       "      <th>2</th>\n",
       "      <td>3008.0</td>\n",
       "      <td>18.0</td>\n",
       "      <td>19.0</td>\n",
       "      <td>382.0</td>\n",
       "      <td>92.0</td>\n",
       "      <td>4715.0</td>\n",
       "      <td>201.0</td>\n",
       "      <td>197.0</td>\n",
       "      <td>127.0</td>\n",
       "      <td>3616.0</td>\n",
       "      <td>T1</td>\n",
       "      <td>T29</td>\n",
       "      <td>1.0</td>\n",
       "    </tr>\n",
       "    <tr>\n",
       "      <th>3</th>\n",
       "      <td>2595.0</td>\n",
       "      <td>296.0</td>\n",
       "      <td>24.0</td>\n",
       "      <td>85.0</td>\n",
       "      <td>28.0</td>\n",
       "      <td>1252.0</td>\n",
       "      <td>144.0</td>\n",
       "      <td>224.0</td>\n",
       "      <td>216.0</td>\n",
       "      <td>780.0</td>\n",
       "      <td>T3</td>\n",
       "      <td>T33</td>\n",
       "      <td>6.0</td>\n",
       "    </tr>\n",
       "    <tr>\n",
       "      <th>4</th>\n",
       "      <td>3261.0</td>\n",
       "      <td>87.0</td>\n",
       "      <td>4.0</td>\n",
       "      <td>42.0</td>\n",
       "      <td>-2.0</td>\n",
       "      <td>3719.0</td>\n",
       "      <td>226.0</td>\n",
       "      <td>233.0</td>\n",
       "      <td>142.0</td>\n",
       "      <td>3784.0</td>\n",
       "      <td>T1</td>\n",
       "      <td>T38</td>\n",
       "      <td>7.0</td>\n",
       "    </tr>\n",
       "  </tbody>\n",
       "</table>\n",
       "</div>"
      ],
      "text/plain": [
       "       X1     X2    X3     X4    X5      X6     X7     X8     X9     X10 X11  \\\n",
       "0  3215.0  206.0   8.0  127.0  14.0  5588.0  215.0  248.0  168.0  1057.0  T1   \n",
       "1  3022.0   18.0   7.0    0.0   0.0  3012.0  215.0  226.0  148.0  1476.0  T1   \n",
       "2  3008.0   18.0  19.0  382.0  92.0  4715.0  201.0  197.0  127.0  3616.0  T1   \n",
       "3  2595.0  296.0  24.0   85.0  28.0  1252.0  144.0  224.0  216.0   780.0  T3   \n",
       "4  3261.0   87.0   4.0   42.0  -2.0  3719.0  226.0  233.0  142.0  3784.0  T1   \n",
       "\n",
       "   X12    Y  \n",
       "0  T29  1.0  \n",
       "1  T23  1.0  \n",
       "2  T29  1.0  \n",
       "3  T33  6.0  \n",
       "4  T38  7.0  "
      ]
     },
     "execution_count": 2,
     "metadata": {},
     "output_type": "execute_result"
    }
   ],
   "source": [
    "df_train = pd.read_csv('data/train.csv')\n",
    "df_train.dropna(subset=['Y'], inplace=True)\n",
    "\n",
    "X_train = df_train.drop('Y', axis = 1)\n",
    "y_train = df_train['Y']\n",
    "\n",
    "\n",
    "X_test = pd.read_csv('data/Xtest.csv')\n",
    "df_train.head()"
   ]
  },
  {
   "cell_type": "code",
   "execution_count": 3,
   "metadata": {},
   "outputs": [
    {
     "data": {
      "text/plain": [
       "X1     40632\n",
       "X2     40632\n",
       "X3     40632\n",
       "X4     40632\n",
       "X5     40632\n",
       "X6     40632\n",
       "X7     40632\n",
       "X8     40632\n",
       "X9     40632\n",
       "X10    40632\n",
       "X11    40632\n",
       "X12    40632\n",
       "dtype: int64"
      ]
     },
     "execution_count": 3,
     "metadata": {},
     "output_type": "execute_result"
    }
   ],
   "source": [
    "X_train.isna().count()"
   ]
  },
  {
   "cell_type": "code",
   "execution_count": 4,
   "metadata": {},
   "outputs": [
    {
     "data": {
      "text/plain": [
       "X1     float64\n",
       "X2     float64\n",
       "X3     float64\n",
       "X4     float64\n",
       "X5     float64\n",
       "X6     float64\n",
       "X7     float64\n",
       "X8     float64\n",
       "X9     float64\n",
       "X10    float64\n",
       "X11     object\n",
       "X12     object\n",
       "dtype: object"
      ]
     },
     "execution_count": 4,
     "metadata": {},
     "output_type": "execute_result"
    }
   ],
   "source": [
    "X_train.dtypes"
   ]
  },
  {
   "cell_type": "code",
   "execution_count": 6,
   "metadata": {},
   "outputs": [],
   "source": [
    "X_train = X_train.astype({'X11':'category', 'X12': 'category'})\n",
    "X_test = X_test.astype({'X11':'category', 'X12':'category'})"
   ]
  },
  {
   "cell_type": "code",
   "execution_count": 7,
   "metadata": {},
   "outputs": [
    {
     "name": "stdout",
     "output_type": "stream",
     "text": [
      "X1      float64\n",
      "X2      float64\n",
      "X3      float64\n",
      "X4      float64\n",
      "X5      float64\n",
      "X6      float64\n",
      "X7      float64\n",
      "X8      float64\n",
      "X9      float64\n",
      "X10     float64\n",
      "X11    category\n",
      "X12    category\n",
      "dtype: object\n"
     ]
    }
   ],
   "source": [
    "print(X_train.dtypes)"
   ]
  },
  {
   "cell_type": "code",
   "execution_count": null,
   "metadata": {},
   "outputs": [],
   "source": []
  },
  {
   "attachments": {},
   "cell_type": "markdown",
   "metadata": {},
   "source": [
    "Plot a bar chart in order to visualize better the possible predictions"
   ]
  },
  {
   "cell_type": "code",
   "execution_count": 8,
   "metadata": {},
   "outputs": [
    {
     "data": {
      "text/plain": [
       "<Axes: xlabel='Y', ylabel='count'>"
      ]
     },
     "execution_count": 8,
     "metadata": {},
     "output_type": "execute_result"
    },
    {
     "data": {
      "image/png": "[encoded data removed]",
      "text/plain": [
       "<Figure size 640x480 with 1 Axes>"
      ]
     },
     "metadata": {},
     "output_type": "display_data"
    }
   ],
   "source": [
    "sns.countplot(x=y_train)"
   ]
  },
  {
   "attachments": {},
   "cell_type": "markdown",
   "metadata": {},
   "source": [
    "We can observe the vast majority of the example are classified as Y=2, so that could be a issue to take into acount. we are now gonnas study how the data is distributed and which variables are better to select as predictors"
   ]
  },
  {
   "attachments": {},
   "cell_type": "markdown",
   "metadata": {},
   "source": [
    "Printing now how the categorical variables are distributed"
   ]
  },
  {
   "cell_type": "code",
   "execution_count": 9,
   "metadata": {},
   "outputs": [
    {
     "name": "stdout",
     "output_type": "stream",
     "text": [
      "T1    18147\n",
      "T3    17882\n",
      "T4     2503\n",
      "T2     2062\n",
      "Name: X11, dtype: int64\n",
      "T29    7996\n",
      "T23    3972\n",
      "T32    3723\n",
      "T33    3180\n",
      "T22    2325\n",
      "T10    2300\n",
      "T12    2128\n",
      "T30    2113\n",
      "T31    1806\n",
      "T24    1468\n",
      "T13    1278\n",
      "T38    1058\n",
      "T39     973\n",
      "T11     913\n",
      "T4      879\n",
      "T40     644\n",
      "T20     621\n",
      "T2      540\n",
      "T6      422\n",
      "T3      319\n",
      "T19     288\n",
      "T17     241\n",
      "T1      187\n",
      "T26     187\n",
      "T16     173\n",
      "T35     127\n",
      "T18     126\n",
      "T34     110\n",
      "T5       90\n",
      "T9       84\n",
      "T27      82\n",
      "T28      63\n",
      "T21      54\n",
      "T14      49\n",
      "T25      26\n",
      "T37      18\n",
      "T8       14\n",
      "T36       9\n",
      "T7        7\n",
      "T15       1\n",
      "Name: X12, dtype: int64\n"
     ]
    }
   ],
   "source": [
    "print(X_train.X11.value_counts())\n",
    "print(X_train.X12.value_counts())"
   ]
  },
  {
   "cell_type": "code",
   "execution_count": 10,
   "metadata": {},
   "outputs": [
    {
     "data": {
      "image/png": "[encoded data removed]",
      "text/plain": [
       "<Figure size 1000x800 with 12 Axes>"
      ]
     },
     "metadata": {},
     "output_type": "display_data"
    }
   ],
   "source": [
    "fig, axes = plt.subplots(4, 3, figsize=(10, 8), sharex=True)\n",
    "for column, axis in zip(X_train.columns, axes.flatten()):\n",
    "    sns.boxplot(x=y_train, y=X_train[column], ax=axis)\n",
    "axes.flatten()[-1].set_visible(False)\n",
    "#axes.flatten()[-2].set_visible(False)\n",
    "fig.tight_layout()"
   ]
  },
  {
   "cell_type": "code",
   "execution_count": 16,
   "metadata": {},
   "outputs": [
    {
     "name": "stderr",
     "output_type": "stream",
     "text": [
      "C:\\Users\\cmari\\AppData\\Local\\Temp\\ipykernel_9476\\2766184221.py:1: FutureWarning: The default value of numeric_only in DataFrame.corr is deprecated. In a future version, it will default to False. Select only valid columns or specify the value of numeric_only to silence this warning.\n",
      "  corr = X_train.corr ()\n"
     ]
    },
    {
     "data": {
      "image/png": "[encoded data removed]",
      "text/plain": [
       "<Figure size 640x480 with 2 Axes>"
      ]
     },
     "metadata": {},
     "output_type": "display_data"
    },
    {
     "data": {
      "text/plain": [
       "<Figure size 1500x800 with 0 Axes>"
      ]
     },
     "metadata": {},
     "output_type": "display_data"
    }
   ],
   "source": [
    "corr = X_train.corr ()\n",
    "#orr.style.background_gradient(cmap = 'coolwarm')\n",
    "sns.heatmap(corr, annot = True)\n",
    " \n",
    "plt.figure(figsize=(15, 8))\n",
    "plt.show()"
   ]
  },
  {
   "attachments": {},
   "cell_type": "markdown",
   "metadata": {},
   "source": [
    "Thanks to this diagram we can observe that variables such as X1, X6, X3 could be suitable for predicting Y. We can observe also X11 is not equal distributed between the different predictions, so we can take that into account."
   ]
  },
  {
   "cell_type": "code",
   "execution_count": 10,
   "metadata": {},
   "outputs": [
    {
     "data": {
      "text/plain": [
       "<seaborn.axisgrid.PairGrid at 0x24d59c05e90>"
      ]
     },
     "execution_count": 10,
     "metadata": {},
     "output_type": "execute_result"
    },
    {
     "data": {
      "image/png": "[encoded data removed]",
      "text/plain": [
       "<Figure size 558.875x500 with 6 Axes>"
      ]
     },
     "metadata": {},
     "output_type": "display_data"
    }
   ],
   "source": [
    "sns.pairplot(pd.concat([X_train[['X2', 'X9']], y_train], axis=1), hue='Y')"
   ]
  },
  {
   "attachments": {},
   "cell_type": "markdown",
   "metadata": {},
   "source": [
    "We can observe it is possible to have a positive relation between X1 and X6. We can't conlude anything more from the others variables. Now we are gonna preprocess the data scaling the features"
   ]
  },
  {
   "attachments": {},
   "cell_type": "markdown",
   "metadata": {},
   "source": [
    "From here to the end of the document, we explore different algorithms. We have done different notebooks in order to make it easier to understand."
   ]
  },
  {
   "attachments": {},
   "cell_type": "markdown",
   "metadata": {},
   "source": [
    "We are gonna start trying to use the algorithm KNN, "
   ]
  },
  {
   "cell_type": "code",
   "execution_count": 14,
   "metadata": {},
   "outputs": [
    {
     "name": "stdout",
     "output_type": "stream",
     "text": [
      "Running Knn with 2 neighbours\n",
      "Training log-loss : 0.22443011191786505\n",
      "Accuracy: 0.8395599527466037\n",
      "Running Knn with 3 neighbours\n",
      "Training log-loss : 0.32362709765010494\n",
      "Accuracy: 0.8335548336286671\n",
      "Running Knn with 5 neighbours\n",
      "Training log-loss : 0.41673191601005616\n",
      "Accuracy: 0.7974010632014176\n",
      "Running Knn with 10 neighbours\n",
      "Training log-loss : 0.5001109474071788\n",
      "Accuracy: 0.7615180153573539\n",
      "Running Knn with 15 neighbours\n",
      "Training log-loss : 0.5354301135138465\n",
      "Accuracy: 0.7497292774168144\n",
      "Running Knn with 20 neighbours\n",
      "Training log-loss : 0.5556566944862519\n",
      "Accuracy: 0.7424936011025792\n",
      "Running Knn with 40 neighbours\n",
      "Training log-loss : 0.5973637564250105\n",
      "Accuracy: 0.7269885804292183\n",
      "Running Knn with 80 neighbours\n",
      "Training log-loss : 0.6312231993138381\n",
      "Accuracy: 0.7133786178381571\n",
      "Running Knn with 100 neighbours\n",
      "Training log-loss : 0.6406103541494668\n",
      "Accuracy: 0.7088993896436306\n"
     ]
    }
   ],
   "source": [
    "X_train_sub  = X_train[['X1', 'X3', 'X6', 'X11']]\n",
    "X_test_sub = X_test[['X1', 'X3', 'X6', 'X11']]\n",
    "\n",
    "numeric_features = ['X1', 'X3', 'X6']\n",
    "numeric_transformer = Pipeline(steps=[\n",
    "    ('imputer', SimpleImputer(strategy='median')),\n",
    "    ('scaler', StandardScaler())])\n",
    "\n",
    "categorical_features = ['X11']\n",
    "X_train_sub = X_train_sub.astype({'X11':'category'})\n",
    "X_test_sub = X_test_sub.astype({'X11':'category'})\n",
    "\n",
    "categorical_transformer = Pipeline(steps=[\n",
    "    ('imputer', SimpleImputer(strategy='most_frequent')),\n",
    "    ('onehot', OneHotEncoder(handle_unknown='ignore', drop='first'))]) \n",
    "\n",
    "preprocessor = ColumnTransformer(\n",
    "    transformers=[\n",
    "        ('num', numeric_transformer, numeric_features),\n",
    "        ('cat', categorical_transformer, categorical_features)])\n",
    " \n",
    "neighbors = [2, 3, 5, 10, 15, 20, 40, 80, 100]\n",
    "log_losses = []\n",
    "accuracies = []\n",
    "for i in neighbors:\n",
    "    print(\"Running Knn with \"+str(i)+\" neighbours\")\n",
    "    knn = KNeighborsClassifier(n_neighbors=i, weights='uniform', p=2)\n",
    "    model = Pipeline(steps=[('preprocessor', preprocessor),\n",
    "                      ('classifier', knn)])\n",
    "\n",
    "    model.fit(X_train_sub, y_train)\n",
    "    #Compute the predicted probabilit  y for each class on the training set and evaluate on the log-loss.\n",
    "\n",
    "    pred_prob_train = pd.DataFrame(model.predict_proba(X_train_sub))\n",
    "    loss = log_loss(y_train, pred_prob_train)\n",
    "    log_losses.append(loss)\n",
    "    print(f'Training log-loss : {loss}')\n",
    "    \n",
    "    # We measure the test accuracy and log score.\n",
    "    y_pred = model.predict(X_train_sub)\n",
    "    test_accuracy = accuracy_score(y_pred, y_train)\n",
    "    accuracies.append(test_accuracy)\n",
    "    print('Accuracy:', test_accuracy)\n",
    "\n",
    "\n",
    "    #Predict on the test predictors, and save the probabilities to a csv file. \n",
    "    \n",
    "    pred_prob_test = pd.DataFrame(model.predict_proba(X_test_sub))\n",
    "\n",
    "    pred_prob_test.rename(columns = {0: 'Y_1', 1: 'Y_2', 2: 'Y_3', 3: 'Y_4', 4: 'Y_5', 5:'Y_6', 6:'Y_7'}, inplace = True)\n",
    "    idx = pred_prob_test.index\n",
    "    pred_prob_test.insert(0, 'id', idx)\n",
    "    pred_prob_test.head()\n",
    "    "
   ]
  },
  {
   "attachments": {},
   "cell_type": "markdown",
   "metadata": {},
   "source": [
    "We can observe having the algorithm with 5 neighbours coulb be a good option"
   ]
  },
  {
   "cell_type": "code",
   "execution_count": 15,
   "metadata": {},
   "outputs": [
    {
     "data": {
      "image/png": "[encoded data removed]",
      "text/plain": [
       "<Figure size 1000x500 with 2 Axes>"
      ]
     },
     "metadata": {},
     "output_type": "display_data"
    }
   ],
   "source": [
    "plt.figure(figsize=(10, 5))\n",
    "plt.subplot(1, 2, 1)\n",
    "plt.plot(neighbors, log_losses, marker='o')\n",
    "plt.xlabel('Number of Neighbors')\n",
    "plt.ylabel('Log Loss')\n",
    "plt.title('Change in Log Loss')\n",
    "\n",
    "plt.subplot(1, 2, 2)\n",
    "plt.plot(neighbors, accuracies, marker='o')\n",
    "plt.xlabel('Number of Neighbors')\n",
    "plt.ylabel('Accuracy')\n",
    "plt.title('Change in Accuracy')\n",
    "\n",
    "plt.tight_layout()\n",
    "plt.show()\n"
   ]
  },
  {
   "cell_type": "code",
   "execution_count": 85,
   "metadata": {},
   "outputs": [
    {
     "name": "stdout",
     "output_type": "stream",
     "text": [
      "Training log-loss : 0.6406103541494668\n"
     ]
    },
    {
     "data": {
      "text/html": [
       "<div>\n",
       "<style scoped>\n",
       "    .dataframe tbody tr th:only-of-type {\n",
       "        vertical-align: middle;\n",
       "    }\n",
       "\n",
       "    .dataframe tbody tr th {\n",
       "        vertical-align: top;\n",
       "    }\n",
       "\n",
       "    .dataframe thead th {\n",
       "        text-align: right;\n",
       "    }\n",
       "</style>\n",
       "<table border=\"1\" class=\"dataframe\">\n",
       "  <thead>\n",
       "    <tr style=\"text-align: right;\">\n",
       "      <th></th>\n",
       "      <th>id</th>\n",
       "      <th>Y_1</th>\n",
       "      <th>Y_2</th>\n",
       "      <th>Y_3</th>\n",
       "      <th>Y_4</th>\n",
       "      <th>Y_5</th>\n",
       "      <th>Y_6</th>\n",
       "      <th>Y_7</th>\n",
       "    </tr>\n",
       "  </thead>\n",
       "  <tbody>\n",
       "    <tr>\n",
       "      <th>0</th>\n",
       "      <td>0</td>\n",
       "      <td>0.19</td>\n",
       "      <td>0.81</td>\n",
       "      <td>0.0</td>\n",
       "      <td>0.0</td>\n",
       "      <td>0.00</td>\n",
       "      <td>0.00</td>\n",
       "      <td>0.00</td>\n",
       "    </tr>\n",
       "    <tr>\n",
       "      <th>1</th>\n",
       "      <td>1</td>\n",
       "      <td>0.15</td>\n",
       "      <td>0.83</td>\n",
       "      <td>0.0</td>\n",
       "      <td>0.0</td>\n",
       "      <td>0.02</td>\n",
       "      <td>0.00</td>\n",
       "      <td>0.00</td>\n",
       "    </tr>\n",
       "    <tr>\n",
       "      <th>2</th>\n",
       "      <td>2</td>\n",
       "      <td>0.55</td>\n",
       "      <td>0.45</td>\n",
       "      <td>0.0</td>\n",
       "      <td>0.0</td>\n",
       "      <td>0.00</td>\n",
       "      <td>0.00</td>\n",
       "      <td>0.00</td>\n",
       "    </tr>\n",
       "    <tr>\n",
       "      <th>3</th>\n",
       "      <td>3</td>\n",
       "      <td>0.14</td>\n",
       "      <td>0.76</td>\n",
       "      <td>0.0</td>\n",
       "      <td>0.0</td>\n",
       "      <td>0.05</td>\n",
       "      <td>0.05</td>\n",
       "      <td>0.00</td>\n",
       "    </tr>\n",
       "    <tr>\n",
       "      <th>4</th>\n",
       "      <td>4</td>\n",
       "      <td>0.59</td>\n",
       "      <td>0.37</td>\n",
       "      <td>0.0</td>\n",
       "      <td>0.0</td>\n",
       "      <td>0.00</td>\n",
       "      <td>0.00</td>\n",
       "      <td>0.04</td>\n",
       "    </tr>\n",
       "  </tbody>\n",
       "</table>\n",
       "</div>"
      ],
      "text/plain": [
       "   id   Y_1   Y_2  Y_3  Y_4   Y_5   Y_6   Y_7\n",
       "0   0  0.19  0.81  0.0  0.0  0.00  0.00  0.00\n",
       "1   1  0.15  0.83  0.0  0.0  0.02  0.00  0.00\n",
       "2   2  0.55  0.45  0.0  0.0  0.00  0.00  0.00\n",
       "3   3  0.14  0.76  0.0  0.0  0.05  0.05  0.00\n",
       "4   4  0.59  0.37  0.0  0.0  0.00  0.00  0.04"
      ]
     },
     "execution_count": 85,
     "metadata": {},
     "output_type": "execute_result"
    }
   ],
   "source": [
    "\n",
    "model = Pipeline(steps=[('preprocessor', preprocessor),\n",
    "                      ('classifier', KNeighborsClassifier(n_neighbors=100, weights='uniform', p=2))])\n",
    "\n",
    "model.fit(X_train_sub, y_train)\n",
    "\n",
    "pred_prob_train = pd.DataFrame(model.predict_proba(X_train_sub))\n",
    "loss = log_loss(y_train, pred_prob_train)\n",
    "print(f'Training log-loss : {loss}')\n",
    "    \n",
    "# We measure the test accuracy and log score.\n",
    "y_pred = model.predict(X_train_sub)\n",
    "\n",
    "pred_prob_test = pd.DataFrame(model.predict_proba(X_test_sub))\n",
    "pred_prob_test.rename(columns = {0: 'Y_1', 1: 'Y_2', 2: 'Y_3', 3: 'Y_4', 4: 'Y_5', 5:'Y_6', 6:'Y_7'}, inplace = True)\n",
    "idx = pred_prob_test.index\n",
    "pred_prob_test.insert(0, 'id', idx)\n",
    "pred_prob_test.head()"
   ]
  },
  {
   "cell_type": "code",
   "execution_count": 86,
   "metadata": {},
   "outputs": [
    {
     "name": "stdout",
     "output_type": "stream",
     "text": [
      "[[10542  3526     0     0     4     0  1126]\n",
      " [ 4209 15856   522     0   577   268    25]\n",
      " [    8   371  1858   178     9   763     0]\n",
      " [    0     0     0     7     0     0     0]\n",
      " [    4    23     0     0    74     0     0]\n",
      " [    1    24   120     6     0   184     0]\n",
      " [   55     9     0     0     0     0   283]]\n"
     ]
    }
   ],
   "source": [
    "print(confusion_matrix(y_pred, y_train))"
   ]
  },
  {
   "cell_type": "code",
   "execution_count": 87,
   "metadata": {},
   "outputs": [
    {
     "data": {
      "text/plain": [
       "<Axes: ylabel='count'>"
      ]
     },
     "execution_count": 87,
     "metadata": {},
     "output_type": "execute_result"
    },
    {
     "data": {
      "image/png": "[encoded data removed]",
      "text/plain": [
       "<Figure size 640x480 with 1 Axes>"
      ]
     },
     "metadata": {},
     "output_type": "display_data"
    }
   ],
   "source": [
    "sns.countplot(x = y_pred)"
   ]
  },
  {
   "cell_type": "code",
   "execution_count": 88,
   "metadata": {},
   "outputs": [],
   "source": [
    "pred_prob_test.to_csv(\"model/group13knn.csv\", index=False)"
   ]
  },
  {
   "attachments": {},
   "cell_type": "markdown",
   "metadata": {},
   "source": [
    "Now we prepare for studying Random Forest algorithm"
   ]
  },
  {
   "cell_type": "code",
   "execution_count": 33,
   "metadata": {},
   "outputs": [],
   "source": [
    "X_train_sub  = X_train[['X1', 'X3', 'X4','X6', 'X10']]\n",
    "X_train_cat = X_train[['X11']]\n",
    "X_test_sub = X_test[['X1', 'X3','X4' ,'X6', 'X10']]\n",
    "X_test_cat = X_test[['X11']]"
   ]
  },
  {
   "attachments": {},
   "cell_type": "markdown",
   "metadata": {},
   "source": [
    "Filling out the missing values in the categoriacal variable X11"
   ]
  },
  {
   "cell_type": "code",
   "execution_count": 42,
   "metadata": {},
   "outputs": [],
   "source": [
    "columna = ['X11']\n",
    "imputer = SimpleImputer(strategy='most_frequent')\n",
    "\n",
    "X_train[columna] = imputer.fit_transform(X_train[columna])\n",
    "\n",
    "X_train_cat = pd.DataFrame(X_train[columna])"
   ]
  },
  {
   "cell_type": "code",
   "execution_count": 43,
   "metadata": {},
   "outputs": [],
   "source": [
    "columnas = ['X1', 'X3', 'X4','X6', 'X10']\n",
    "\n",
    "# Rellenar los valores faltantes con la media\n",
    "imputer = SimpleImputer(strategy='mean')\n",
    "X_train[columnas] = imputer.fit_transform(X_train[columnas])\n",
    "\n",
    "# Convertir a un array de numpy\n",
    "X_train_sub = pd.DataFrame(X_train[columnas])"
   ]
  },
  {
   "attachments": {},
   "cell_type": "markdown",
   "metadata": {},
   "source": [
    "We are gonna study now another algorithms such as Random Forest"
   ]
  },
  {
   "cell_type": "code",
   "execution_count": 36,
   "metadata": {},
   "outputs": [
    {
     "name": "stderr",
     "output_type": "stream",
     "text": [
      "c:\\Users\\cmari\\AppData\\Local\\Programs\\Python\\Python311\\Lib\\site-packages\\sklearn\\preprocessing\\_encoders.py:828: FutureWarning: `sparse` was renamed to `sparse_output` in version 1.2 and will be removed in 1.4. `sparse_output` is ignored unless you leave `sparse` to its default value.\n",
      "  warnings.warn(\n",
      "c:\\Users\\cmari\\AppData\\Local\\Programs\\Python\\Python311\\Lib\\site-packages\\sklearn\\preprocessing\\_encoders.py:828: FutureWarning: `sparse` was renamed to `sparse_output` in version 1.2 and will be removed in 1.4. `sparse_output` is ignored unless you leave `sparse` to its default value.\n",
      "  warnings.warn(\n"
     ]
    },
    {
     "name": "stdout",
     "output_type": "stream",
     "text": [
      "Running Random Forest\n"
     ]
    },
    {
     "ename": "KeyboardInterrupt",
     "evalue": "",
     "output_type": "error",
     "traceback": [
      "\u001b[1;31m---------------------------------------------------------------------------\u001b[0m",
      "\u001b[1;31mKeyboardInterrupt\u001b[0m                         Traceback (most recent call last)",
      "Cell \u001b[1;32mIn[36], line 33\u001b[0m\n\u001b[0;32m     30\u001b[0m \u001b[39mprint\u001b[39m(\u001b[39m'\u001b[39m\u001b[39mRunning\u001b[39m\u001b[39m'\u001b[39m, model_name)\n\u001b[0;32m     31\u001b[0m \u001b[39m# Note that by default the argument `refit` of `GridSearchCV` is set to True, so that the best estimator \u001b[39;00m\n\u001b[0;32m     32\u001b[0m \u001b[39m# is refit on the whole training set.\u001b[39;00m\n\u001b[1;32m---> 33\u001b[0m model\u001b[39m.\u001b[39;49mfit(X_train_sub, y_train)\n\u001b[0;32m     36\u001b[0m y_pred_proba \u001b[39m=\u001b[39m model\u001b[39m.\u001b[39mpredict_proba(X_train_sub)\n\u001b[0;32m     37\u001b[0m test_log_loss \u001b[39m=\u001b[39m log_loss(y_train, y_pred_proba, labels\u001b[39m=\u001b[39mmodel\u001b[39m.\u001b[39mclasses_)\n",
      "File \u001b[1;32mc:\\Users\\cmari\\AppData\\Local\\Programs\\Python\\Python311\\Lib\\site-packages\\sklearn\\model_selection\\_search.py:874\u001b[0m, in \u001b[0;36mBaseSearchCV.fit\u001b[1;34m(self, X, y, groups, **fit_params)\u001b[0m\n\u001b[0;32m    868\u001b[0m     results \u001b[39m=\u001b[39m \u001b[39mself\u001b[39m\u001b[39m.\u001b[39m_format_results(\n\u001b[0;32m    869\u001b[0m         all_candidate_params, n_splits, all_out, all_more_results\n\u001b[0;32m    870\u001b[0m     )\n\u001b[0;32m    872\u001b[0m     \u001b[39mreturn\u001b[39;00m results\n\u001b[1;32m--> 874\u001b[0m \u001b[39mself\u001b[39;49m\u001b[39m.\u001b[39;49m_run_search(evaluate_candidates)\n\u001b[0;32m    876\u001b[0m \u001b[39m# multimetric is determined here because in the case of a callable\u001b[39;00m\n\u001b[0;32m    877\u001b[0m \u001b[39m# self.scoring the return type is only known after calling\u001b[39;00m\n\u001b[0;32m    878\u001b[0m first_test_score \u001b[39m=\u001b[39m all_out[\u001b[39m0\u001b[39m][\u001b[39m\"\u001b[39m\u001b[39mtest_scores\u001b[39m\u001b[39m\"\u001b[39m]\n",
      "File \u001b[1;32mc:\\Users\\cmari\\AppData\\Local\\Programs\\Python\\Python311\\Lib\\site-packages\\sklearn\\model_selection\\_search.py:1768\u001b[0m, in \u001b[0;36mRandomizedSearchCV._run_search\u001b[1;34m(self, evaluate_candidates)\u001b[0m\n\u001b[0;32m   1766\u001b[0m \u001b[39mdef\u001b[39;00m \u001b[39m_run_search\u001b[39m(\u001b[39mself\u001b[39m, evaluate_candidates):\n\u001b[0;32m   1767\u001b[0m \u001b[39m    \u001b[39m\u001b[39m\"\"\"Search n_iter candidates from param_distributions\"\"\"\u001b[39;00m\n\u001b[1;32m-> 1768\u001b[0m     evaluate_candidates(\n\u001b[0;32m   1769\u001b[0m         ParameterSampler(\n\u001b[0;32m   1770\u001b[0m             \u001b[39mself\u001b[39;49m\u001b[39m.\u001b[39;49mparam_distributions, \u001b[39mself\u001b[39;49m\u001b[39m.\u001b[39;49mn_iter, random_state\u001b[39m=\u001b[39;49m\u001b[39mself\u001b[39;49m\u001b[39m.\u001b[39;49mrandom_state\n\u001b[0;32m   1771\u001b[0m         )\n\u001b[0;32m   1772\u001b[0m     )\n",
      "File \u001b[1;32mc:\\Users\\cmari\\AppData\\Local\\Programs\\Python\\Python311\\Lib\\site-packages\\sklearn\\model_selection\\_search.py:821\u001b[0m, in \u001b[0;36mBaseSearchCV.fit.<locals>.evaluate_candidates\u001b[1;34m(candidate_params, cv, more_results)\u001b[0m\n\u001b[0;32m    813\u001b[0m \u001b[39mif\u001b[39;00m \u001b[39mself\u001b[39m\u001b[39m.\u001b[39mverbose \u001b[39m>\u001b[39m \u001b[39m0\u001b[39m:\n\u001b[0;32m    814\u001b[0m     \u001b[39mprint\u001b[39m(\n\u001b[0;32m    815\u001b[0m         \u001b[39m\"\u001b[39m\u001b[39mFitting \u001b[39m\u001b[39m{0}\u001b[39;00m\u001b[39m folds for each of \u001b[39m\u001b[39m{1}\u001b[39;00m\u001b[39m candidates,\u001b[39m\u001b[39m\"\u001b[39m\n\u001b[0;32m    816\u001b[0m         \u001b[39m\"\u001b[39m\u001b[39m totalling \u001b[39m\u001b[39m{2}\u001b[39;00m\u001b[39m fits\u001b[39m\u001b[39m\"\u001b[39m\u001b[39m.\u001b[39mformat(\n\u001b[0;32m    817\u001b[0m             n_splits, n_candidates, n_candidates \u001b[39m*\u001b[39m n_splits\n\u001b[0;32m    818\u001b[0m         )\n\u001b[0;32m    819\u001b[0m     )\n\u001b[1;32m--> 821\u001b[0m out \u001b[39m=\u001b[39m parallel(\n\u001b[0;32m    822\u001b[0m     delayed(_fit_and_score)(\n\u001b[0;32m    823\u001b[0m         clone(base_estimator),\n\u001b[0;32m    824\u001b[0m         X,\n\u001b[0;32m    825\u001b[0m         y,\n\u001b[0;32m    826\u001b[0m         train\u001b[39m=\u001b[39;49mtrain,\n\u001b[0;32m    827\u001b[0m         test\u001b[39m=\u001b[39;49mtest,\n\u001b[0;32m    828\u001b[0m         parameters\u001b[39m=\u001b[39;49mparameters,\n\u001b[0;32m    829\u001b[0m         split_progress\u001b[39m=\u001b[39;49m(split_idx, n_splits),\n\u001b[0;32m    830\u001b[0m         candidate_progress\u001b[39m=\u001b[39;49m(cand_idx, n_candidates),\n\u001b[0;32m    831\u001b[0m         \u001b[39m*\u001b[39;49m\u001b[39m*\u001b[39;49mfit_and_score_kwargs,\n\u001b[0;32m    832\u001b[0m     )\n\u001b[0;32m    833\u001b[0m     \u001b[39mfor\u001b[39;49;00m (cand_idx, parameters), (split_idx, (train, test)) \u001b[39min\u001b[39;49;00m product(\n\u001b[0;32m    834\u001b[0m         \u001b[39menumerate\u001b[39;49m(candidate_params), \u001b[39menumerate\u001b[39;49m(cv\u001b[39m.\u001b[39;49msplit(X, y, groups))\n\u001b[0;32m    835\u001b[0m     )\n\u001b[0;32m    836\u001b[0m )\n\u001b[0;32m    838\u001b[0m \u001b[39mif\u001b[39;00m \u001b[39mlen\u001b[39m(out) \u001b[39m<\u001b[39m \u001b[39m1\u001b[39m:\n\u001b[0;32m    839\u001b[0m     \u001b[39mraise\u001b[39;00m \u001b[39mValueError\u001b[39;00m(\n\u001b[0;32m    840\u001b[0m         \u001b[39m\"\u001b[39m\u001b[39mNo fits were performed. \u001b[39m\u001b[39m\"\u001b[39m\n\u001b[0;32m    841\u001b[0m         \u001b[39m\"\u001b[39m\u001b[39mWas the CV iterator empty? \u001b[39m\u001b[39m\"\u001b[39m\n\u001b[0;32m    842\u001b[0m         \u001b[39m\"\u001b[39m\u001b[39mWere there no candidates?\u001b[39m\u001b[39m\"\u001b[39m\n\u001b[0;32m    843\u001b[0m     )\n",
      "File \u001b[1;32mc:\\Users\\cmari\\AppData\\Local\\Programs\\Python\\Python311\\Lib\\site-packages\\sklearn\\utils\\parallel.py:63\u001b[0m, in \u001b[0;36mParallel.__call__\u001b[1;34m(self, iterable)\u001b[0m\n\u001b[0;32m     58\u001b[0m config \u001b[39m=\u001b[39m get_config()\n\u001b[0;32m     59\u001b[0m iterable_with_config \u001b[39m=\u001b[39m (\n\u001b[0;32m     60\u001b[0m     (_with_config(delayed_func, config), args, kwargs)\n\u001b[0;32m     61\u001b[0m     \u001b[39mfor\u001b[39;00m delayed_func, args, kwargs \u001b[39min\u001b[39;00m iterable\n\u001b[0;32m     62\u001b[0m )\n\u001b[1;32m---> 63\u001b[0m \u001b[39mreturn\u001b[39;00m \u001b[39msuper\u001b[39;49m()\u001b[39m.\u001b[39;49m\u001b[39m__call__\u001b[39;49m(iterable_with_config)\n",
      "File \u001b[1;32mc:\\Users\\cmari\\AppData\\Local\\Programs\\Python\\Python311\\Lib\\site-packages\\joblib\\parallel.py:1098\u001b[0m, in \u001b[0;36mParallel.__call__\u001b[1;34m(self, iterable)\u001b[0m\n\u001b[0;32m   1095\u001b[0m     \u001b[39mself\u001b[39m\u001b[39m.\u001b[39m_iterating \u001b[39m=\u001b[39m \u001b[39mFalse\u001b[39;00m\n\u001b[0;32m   1097\u001b[0m \u001b[39mwith\u001b[39;00m \u001b[39mself\u001b[39m\u001b[39m.\u001b[39m_backend\u001b[39m.\u001b[39mretrieval_context():\n\u001b[1;32m-> 1098\u001b[0m     \u001b[39mself\u001b[39;49m\u001b[39m.\u001b[39;49mretrieve()\n\u001b[0;32m   1099\u001b[0m \u001b[39m# Make sure that we get a last message telling us we are done\u001b[39;00m\n\u001b[0;32m   1100\u001b[0m elapsed_time \u001b[39m=\u001b[39m time\u001b[39m.\u001b[39mtime() \u001b[39m-\u001b[39m \u001b[39mself\u001b[39m\u001b[39m.\u001b[39m_start_time\n",
      "File \u001b[1;32mc:\\Users\\cmari\\AppData\\Local\\Programs\\Python\\Python311\\Lib\\site-packages\\joblib\\parallel.py:975\u001b[0m, in \u001b[0;36mParallel.retrieve\u001b[1;34m(self)\u001b[0m\n\u001b[0;32m    973\u001b[0m \u001b[39mtry\u001b[39;00m:\n\u001b[0;32m    974\u001b[0m     \u001b[39mif\u001b[39;00m \u001b[39mgetattr\u001b[39m(\u001b[39mself\u001b[39m\u001b[39m.\u001b[39m_backend, \u001b[39m'\u001b[39m\u001b[39msupports_timeout\u001b[39m\u001b[39m'\u001b[39m, \u001b[39mFalse\u001b[39;00m):\n\u001b[1;32m--> 975\u001b[0m         \u001b[39mself\u001b[39m\u001b[39m.\u001b[39m_output\u001b[39m.\u001b[39mextend(job\u001b[39m.\u001b[39;49mget(timeout\u001b[39m=\u001b[39;49m\u001b[39mself\u001b[39;49m\u001b[39m.\u001b[39;49mtimeout))\n\u001b[0;32m    976\u001b[0m     \u001b[39melse\u001b[39;00m:\n\u001b[0;32m    977\u001b[0m         \u001b[39mself\u001b[39m\u001b[39m.\u001b[39m_output\u001b[39m.\u001b[39mextend(job\u001b[39m.\u001b[39mget())\n",
      "File \u001b[1;32mc:\\Users\\cmari\\AppData\\Local\\Programs\\Python\\Python311\\Lib\\site-packages\\joblib\\_parallel_backends.py:567\u001b[0m, in \u001b[0;36mLokyBackend.wrap_future_result\u001b[1;34m(future, timeout)\u001b[0m\n\u001b[0;32m    564\u001b[0m \u001b[39m\u001b[39m\u001b[39m\"\"\"Wrapper for Future.result to implement the same behaviour as\u001b[39;00m\n\u001b[0;32m    565\u001b[0m \u001b[39mAsyncResults.get from multiprocessing.\"\"\"\u001b[39;00m\n\u001b[0;32m    566\u001b[0m \u001b[39mtry\u001b[39;00m:\n\u001b[1;32m--> 567\u001b[0m     \u001b[39mreturn\u001b[39;00m future\u001b[39m.\u001b[39;49mresult(timeout\u001b[39m=\u001b[39;49mtimeout)\n\u001b[0;32m    568\u001b[0m \u001b[39mexcept\u001b[39;00m CfTimeoutError \u001b[39mas\u001b[39;00m e:\n\u001b[0;32m    569\u001b[0m     \u001b[39mraise\u001b[39;00m \u001b[39mTimeoutError\u001b[39;00m \u001b[39mfrom\u001b[39;00m \u001b[39me\u001b[39;00m\n",
      "File \u001b[1;32mc:\\Users\\cmari\\AppData\\Local\\Programs\\Python\\Python311\\Lib\\concurrent\\futures\\_base.py:451\u001b[0m, in \u001b[0;36mFuture.result\u001b[1;34m(self, timeout)\u001b[0m\n\u001b[0;32m    448\u001b[0m \u001b[39melif\u001b[39;00m \u001b[39mself\u001b[39m\u001b[39m.\u001b[39m_state \u001b[39m==\u001b[39m FINISHED:\n\u001b[0;32m    449\u001b[0m     \u001b[39mreturn\u001b[39;00m \u001b[39mself\u001b[39m\u001b[39m.\u001b[39m__get_result()\n\u001b[1;32m--> 451\u001b[0m \u001b[39mself\u001b[39;49m\u001b[39m.\u001b[39;49m_condition\u001b[39m.\u001b[39;49mwait(timeout)\n\u001b[0;32m    453\u001b[0m \u001b[39mif\u001b[39;00m \u001b[39mself\u001b[39m\u001b[39m.\u001b[39m_state \u001b[39min\u001b[39;00m [CANCELLED, CANCELLED_AND_NOTIFIED]:\n\u001b[0;32m    454\u001b[0m     \u001b[39mraise\u001b[39;00m CancelledError()\n",
      "File \u001b[1;32mc:\\Users\\cmari\\AppData\\Local\\Programs\\Python\\Python311\\Lib\\threading.py:320\u001b[0m, in \u001b[0;36mCondition.wait\u001b[1;34m(self, timeout)\u001b[0m\n\u001b[0;32m    318\u001b[0m \u001b[39mtry\u001b[39;00m:    \u001b[39m# restore state no matter what (e.g., KeyboardInterrupt)\u001b[39;00m\n\u001b[0;32m    319\u001b[0m     \u001b[39mif\u001b[39;00m timeout \u001b[39mis\u001b[39;00m \u001b[39mNone\u001b[39;00m:\n\u001b[1;32m--> 320\u001b[0m         waiter\u001b[39m.\u001b[39;49macquire()\n\u001b[0;32m    321\u001b[0m         gotit \u001b[39m=\u001b[39m \u001b[39mTrue\u001b[39;00m\n\u001b[0;32m    322\u001b[0m     \u001b[39melse\u001b[39;00m:\n",
      "\u001b[1;31mKeyboardInterrupt\u001b[0m: "
     ]
    }
   ],
   "source": [
    "X_train_num  = X_train_sub[['X1', 'X3', 'X6', 'X10']]\n",
    "X_train_cat = X_train[['X11']]\n",
    "X_test_num = X_test[['X1', 'X3','X6', 'X10']]\n",
    "X_test_cat = X_test[['X11']]\n",
    "\n",
    "ohe = OneHotEncoder(sparse=False)\n",
    "X_train_categorical_encoded = ohe.fit_transform(X_train_cat)\n",
    "X_test_cat_encoded = ohe.fit_transform(X_test_cat)\n",
    "\n",
    "X_train_sub = np.concatenate((X_train_num, X_train_categorical_encoded), axis=1)\n",
    "X_test_num = np.concatenate((X_test_num, X_test_cat_encoded), axis=1)\n",
    "param_grid_rf = {\n",
    "    'criterion': ['log_loss', 'gini', 'entropy'],\n",
    "    'n_estimators': [100, 200, 300],\n",
    "    'max_depth': [None, 2, 5, 10],\n",
    "    'min_samples_split': [2, 5, 10],\n",
    "    'min_samples_leaf': [1, 2, 4]\n",
    "}\n",
    "\n",
    "rf = RandomForestClassifier()\n",
    "default_grid_params = dict(n_iter=10, cv=5, n_jobs=4)\n",
    "\n",
    "grids = {\n",
    "    'Random Forest': RandomizedSearchCV(rf, param_grid_rf, scoring='neg_log_loss', **default_grid_params),\n",
    "}\n",
    "\n",
    "results = []\n",
    "\n",
    "for model_name, model in grids.items():\n",
    "    print('Running', model_name)\n",
    "    # Note that by default the argument `refit` of `GridSearchCV` is set to True, so that the best estimator \n",
    "    # is refit on the whole training set.\n",
    "    model.fit(X_train_sub, y_train)\n",
    "\n",
    "\n",
    "    y_pred_proba = model.predict_proba(X_train_sub)\n",
    "    test_log_loss = log_loss(y_train, y_pred_proba, labels=model.classes_)\n",
    "    print('Log loss:', test_log_loss)\n",
    "\n",
    "    results.append([test_log_loss])\n",
    "    pred_prob_test = pd.DataFrame(model.predict_proba(X_test_num))\n",
    "    pred_prob_test.rename(columns = {0: 'Y_1', 1: 'Y_2', 2: 'Y_3', 3: 'Y_4', 4: 'Y_5', 5:'Y_6', 6:'Y_7'}, inplace = True)\n",
    "    idx = pred_prob_test.index\n",
    "    pred_prob_test.insert(0, 'id', idx)\n",
    "    pred_prob_test.head()\n",
    "    \n",
    "    print(f'Best hyperparameters: {model.best_params_}')"
   ]
  },
  {
   "attachments": {},
   "cell_type": "markdown",
   "metadata": {},
   "source": [
    "We compute now the algorithm with those best hyperparametres"
   ]
  },
  {
   "cell_type": "code",
   "execution_count": 44,
   "metadata": {},
   "outputs": [],
   "source": [
    "columna = ['X11']\n",
    "imputer = SimpleImputer(strategy='most_frequent')\n",
    "\n",
    "X_train[columna] = imputer.fit_transform(X_train[columna])\n",
    "\n",
    "X_train_cat = pd.DataFrame(X_train[columna])\n",
    "\n",
    "columnas = ['X1', 'X3','X4', 'X6', 'X10']\n",
    "\n",
    "# Rellenar los valores faltantes con la media\n",
    "imputer = SimpleImputer(strategy='mean')\n",
    "X_train[columnas] = imputer.fit_transform(X_train[columnas])\n",
    "\n",
    "# Convertir a un array de numpy\n",
    "X_train_sub = pd.DataFrame(X_train[columnas])"
   ]
  },
  {
   "cell_type": "code",
   "execution_count": 45,
   "metadata": {},
   "outputs": [
    {
     "name": "stderr",
     "output_type": "stream",
     "text": [
      "c:\\Users\\cmari\\AppData\\Local\\Programs\\Python\\Python311\\Lib\\site-packages\\sklearn\\preprocessing\\_encoders.py:828: FutureWarning: `sparse` was renamed to `sparse_output` in version 1.2 and will be removed in 1.4. `sparse_output` is ignored unless you leave `sparse` to its default value.\n",
      "  warnings.warn(\n",
      "c:\\Users\\cmari\\AppData\\Local\\Programs\\Python\\Python311\\Lib\\site-packages\\sklearn\\preprocessing\\_encoders.py:828: FutureWarning: `sparse` was renamed to `sparse_output` in version 1.2 and will be removed in 1.4. `sparse_output` is ignored unless you leave `sparse` to its default value.\n",
      "  warnings.warn(\n"
     ]
    },
    {
     "name": "stdout",
     "output_type": "stream",
     "text": [
      "Log loss: 0.30242770080183873\n"
     ]
    },
    {
     "data": {
      "text/html": [
       "<div>\n",
       "<style scoped>\n",
       "    .dataframe tbody tr th:only-of-type {\n",
       "        vertical-align: middle;\n",
       "    }\n",
       "\n",
       "    .dataframe tbody tr th {\n",
       "        vertical-align: top;\n",
       "    }\n",
       "\n",
       "    .dataframe thead th {\n",
       "        text-align: right;\n",
       "    }\n",
       "</style>\n",
       "<table border=\"1\" class=\"dataframe\">\n",
       "  <thead>\n",
       "    <tr style=\"text-align: right;\">\n",
       "      <th></th>\n",
       "      <th>id</th>\n",
       "      <th>Y_1</th>\n",
       "      <th>Y_2</th>\n",
       "      <th>Y_3</th>\n",
       "      <th>Y_4</th>\n",
       "      <th>Y_5</th>\n",
       "      <th>Y_6</th>\n",
       "      <th>Y_7</th>\n",
       "    </tr>\n",
       "  </thead>\n",
       "  <tbody>\n",
       "    <tr>\n",
       "      <th>0</th>\n",
       "      <td>0</td>\n",
       "      <td>0.248770</td>\n",
       "      <td>0.750593</td>\n",
       "      <td>0.000005</td>\n",
       "      <td>0.000000</td>\n",
       "      <td>0.000435</td>\n",
       "      <td>0.000005</td>\n",
       "      <td>0.000191</td>\n",
       "    </tr>\n",
       "    <tr>\n",
       "      <th>1</th>\n",
       "      <td>1</td>\n",
       "      <td>0.088168</td>\n",
       "      <td>0.906148</td>\n",
       "      <td>0.000005</td>\n",
       "      <td>0.000000</td>\n",
       "      <td>0.005483</td>\n",
       "      <td>0.000005</td>\n",
       "      <td>0.000191</td>\n",
       "    </tr>\n",
       "    <tr>\n",
       "      <th>2</th>\n",
       "      <td>2</td>\n",
       "      <td>0.647580</td>\n",
       "      <td>0.352420</td>\n",
       "      <td>0.000000</td>\n",
       "      <td>0.000000</td>\n",
       "      <td>0.000000</td>\n",
       "      <td>0.000000</td>\n",
       "      <td>0.000000</td>\n",
       "    </tr>\n",
       "    <tr>\n",
       "      <th>3</th>\n",
       "      <td>3</td>\n",
       "      <td>0.214719</td>\n",
       "      <td>0.749752</td>\n",
       "      <td>0.003606</td>\n",
       "      <td>0.000027</td>\n",
       "      <td>0.018368</td>\n",
       "      <td>0.013512</td>\n",
       "      <td>0.000015</td>\n",
       "    </tr>\n",
       "    <tr>\n",
       "      <th>4</th>\n",
       "      <td>4</td>\n",
       "      <td>0.280902</td>\n",
       "      <td>0.690056</td>\n",
       "      <td>0.000057</td>\n",
       "      <td>0.000000</td>\n",
       "      <td>0.000014</td>\n",
       "      <td>0.000000</td>\n",
       "      <td>0.028972</td>\n",
       "    </tr>\n",
       "  </tbody>\n",
       "</table>\n",
       "</div>"
      ],
      "text/plain": [
       "   id       Y_1       Y_2       Y_3       Y_4       Y_5       Y_6       Y_7\n",
       "0   0  0.248770  0.750593  0.000005  0.000000  0.000435  0.000005  0.000191\n",
       "1   1  0.088168  0.906148  0.000005  0.000000  0.005483  0.000005  0.000191\n",
       "2   2  0.647580  0.352420  0.000000  0.000000  0.000000  0.000000  0.000000\n",
       "3   3  0.214719  0.749752  0.003606  0.000027  0.018368  0.013512  0.000015\n",
       "4   4  0.280902  0.690056  0.000057  0.000000  0.000014  0.000000  0.028972"
      ]
     },
     "execution_count": 45,
     "metadata": {},
     "output_type": "execute_result"
    }
   ],
   "source": [
    "X_train_num  = X_train_sub[['X1', 'X3','X6', 'X10']]\n",
    "X_train_cat = X_train[['X11']]\n",
    "X_test_num = X_test[['X1', 'X3', 'X6','X10']]\n",
    "X_test_cat = X_test[['X11']]\n",
    "\n",
    "ohe = OneHotEncoder(sparse=False)\n",
    "X_train_categorical_encoded = ohe.fit_transform(X_train_cat)\n",
    "X_test_cat_encoded = ohe.fit_transform(X_test_cat)\n",
    "\n",
    "X_train_sub = np.concatenate((X_train_num, X_train_categorical_encoded), axis=1)\n",
    "X_test_num = np.concatenate((X_test_num, X_test_cat_encoded), axis=1)\n",
    "\n",
    "model = RandomForestClassifier(n_estimators=200, min_samples_split=5, min_samples_leaf=4,\n",
    "                            max_depth=None, criterion='log_loss')\n",
    "model.fit(X_train_sub, y_train)\n",
    "\n",
    "\n",
    "y_pred_proba = model.predict_proba(X_train_sub)\n",
    "test_log_loss = log_loss(y_train, y_pred_proba, labels=model.classes_)\n",
    "print('Log loss:', test_log_loss)\n",
    "\n",
    "results.append([test_log_loss])\n",
    "pred_prob_test = pd.DataFrame(model.predict_proba(X_test_num))\n",
    "pred_prob_test.rename(columns = {0: 'Y_1', 1: 'Y_2', 2: 'Y_3', 3: 'Y_4', 4: 'Y_5', 5:'Y_6', 6:'Y_7'}, inplace = True)\n",
    "idx = pred_prob_test.index\n",
    "pred_prob_test.insert(0, 'id', idx)\n",
    "pred_prob_test.head()\n"
   ]
  },
  {
   "cell_type": "code",
   "execution_count": 46,
   "metadata": {},
   "outputs": [],
   "source": [
    "y_pred = model.predict(X_train_sub)"
   ]
  },
  {
   "cell_type": "code",
   "execution_count": 47,
   "metadata": {},
   "outputs": [
    {
     "data": {
      "text/plain": [
       "<Axes: ylabel='count'>"
      ]
     },
     "execution_count": 47,
     "metadata": {},
     "output_type": "execute_result"
    },
    {
     "data": {
      "image/png": "[encoded data removed]",
      "text/plain": [
       "<Figure size 640x480 with 1 Axes>"
      ]
     },
     "metadata": {},
     "output_type": "display_data"
    }
   ],
   "source": [
    "sns.countplot(x = y_pred)"
   ]
  },
  {
   "cell_type": "code",
   "execution_count": 48,
   "metadata": {},
   "outputs": [],
   "source": [
    "pred_prob_test.to_csv(\"model/groupe13RF.csv\", index=False)"
   ]
  },
  {
   "cell_type": "code",
   "execution_count": 30,
   "metadata": {},
   "outputs": [
    {
     "data": {
      "text/plain": [
       "array([[14701,    39,     0,     0,     0,     0,    27],\n",
       "       [  110, 19762,    15,     0,    71,    18,     2],\n",
       "       [    4,     6,  2482,    18,     5,    10,     0],\n",
       "       [    0,     0,     0,   167,     0,     1,     0],\n",
       "       [    2,     0,     0,     0,   587,     0,     0],\n",
       "       [    0,     1,     3,     6,     1,  1186,     0],\n",
       "       [    2,     1,     0,     0,     0,     0,  1405]], dtype=int64)"
      ]
     },
     "execution_count": 30,
     "metadata": {},
     "output_type": "execute_result"
    }
   ],
   "source": [
    "confusion_matrix(y_pred, y_train)"
   ]
  },
  {
   "attachments": {},
   "cell_type": "markdown",
   "metadata": {},
   "source": [
    "We are gonna focus on Randon Forest in order to immprove the results"
   ]
  },
  {
   "cell_type": "code",
   "execution_count": 9,
   "metadata": {},
   "outputs": [],
   "source": [
    "param_range = np.arange(1, 301)\n"
   ]
  },
  {
   "cell_type": "code",
   "execution_count": 10,
   "metadata": {},
   "outputs": [],
   "source": [
    "X_train_num  = X_train_sub[['X1', 'X3', 'X4','X6', 'X10']]\n",
    "X_train_cat = X_train[['X11']]\n",
    "X_test_num = X_test[['X1', 'X3', 'X6', 'X4','X10']]\n",
    "X_test_cat = X_test[['X11']]\n"
   ]
  },
  {
   "cell_type": "code",
   "execution_count": 11,
   "metadata": {},
   "outputs": [
    {
     "name": "stderr",
     "output_type": "stream",
     "text": [
      "c:\\Users\\cmari\\AppData\\Local\\Programs\\Python\\Python311\\Lib\\site-packages\\sklearn\\preprocessing\\_encoders.py:828: FutureWarning: `sparse` was renamed to `sparse_output` in version 1.2 and will be removed in 1.4. `sparse_output` is ignored unless you leave `sparse` to its default value.\n",
      "  warnings.warn(\n",
      "c:\\Users\\cmari\\AppData\\Local\\Programs\\Python\\Python311\\Lib\\site-packages\\sklearn\\preprocessing\\_encoders.py:828: FutureWarning: `sparse` was renamed to `sparse_output` in version 1.2 and will be removed in 1.4. `sparse_output` is ignored unless you leave `sparse` to its default value.\n",
      "  warnings.warn(\n"
     ]
    }
   ],
   "source": [
    "\n",
    "ohe = OneHotEncoder(sparse=False)\n",
    "X_train_categorical_encoded = ohe.fit_transform(X_train_cat)\n",
    "X_test_cat_encoded = ohe.fit_transform(X_test_cat)\n",
    "\n",
    "X_train_sub = np.concatenate((X_train_num, X_train_categorical_encoded), axis=1)\n",
    "X_test_num = np.concatenate((X_test_num, X_test_cat_encoded), axis=1)\n",
    "\n",
    "\n",
    "train_scores, test_scores = validation_curve(\n",
    "    RandomForestClassifier(), X_train_sub, y_train,\n",
    "    param_name=\"n_estimators\", param_range=param_range,\n",
    "    cv=5, scoring='neg_log_loss', n_jobs=-1\n",
    ")\n",
    "\n",
    "print(train_scores)\n",
    "\n",
    "# Calcular la media y desviación estándar de las puntuaciones de entrenamiento y validación\n",
    "train_mean = -np.mean(train_scores, axis=1)\n",
    "train_std = np.std(train_scores, axis=1)\n",
    "test_mean = -np.mean(test_scores, axis=1)\n",
    "test_std = np.std(test_scores, axis=1)\n",
    "\n",
    "# Graficar la curva de validación\n",
    "plt.figure(figsize=(10, 6))\n",
    "plt.title(\"Curva de Validación - Random Forest\")\n",
    "plt.xlabel(\"Número de Árboles\")\n",
    "plt.ylabel(\"Negativo del Logaritmo de la Pérdida\")\n",
    "plt.ylim(0.0, 1.1)\n",
    "plt.plot(param_range, train_mean, label=\"Entrenamiento\", color=\"r\")\n",
    "plt.plot(param_range, test_mean, label=\"Validación\", color=\"b\")\n",
    "plt.fill_between(param_range, train_mean - train_std, train_mean + train_std, alpha=0.2, color=\"r\")\n",
    "plt.fill_between(param_range, test_mean - test_std, test_mean + test_std, alpha=0.2, color=\"b\")\n",
    "plt.legend(loc=\"best\")\n",
    "plt.grid(True)\n",
    "plt.show()"
   ]
  },
  {
   "attachments": {},
   "cell_type": "markdown",
   "metadata": {},
   "source": [
    "We are gonna now study another algorithms and we are gonna take into account another features. First we are gonna do something we should have done before, that is filling all the features with the missing values and applying OneHotEncoder"
   ]
  },
  {
   "cell_type": "code",
   "execution_count": 25,
   "metadata": {},
   "outputs": [
    {
     "data": {
      "text/plain": [
       "X1     46\n",
       "X2      0\n",
       "X3     31\n",
       "X4      0\n",
       "X5      0\n",
       "X6     48\n",
       "X7      0\n",
       "X8      0\n",
       "X9      0\n",
       "X10     0\n",
       "X11    38\n",
       "X12     0\n",
       "dtype: int64"
      ]
     },
     "execution_count": 25,
     "metadata": {},
     "output_type": "execute_result"
    }
   ],
   "source": [
    "X_train.isna().sum()"
   ]
  },
  {
   "cell_type": "code",
   "execution_count": 7,
   "metadata": {},
   "outputs": [],
   "source": [
    "\n",
    "numeric_variables_missing = ['X1','X2','X3', 'X4', 'X5', 'X6','X7', 'X8', 'X9', 'X10']\n",
    "\n",
    "categorical_variables_missing = ['X11','X12']\n",
    "\n",
    "categorical_variables = ['X11', 'X12']\n",
    "imputer = SimpleImputer(strategy='mean')\n",
    "X_train[numeric_variables_missing] = imputer.fit_transform(X_train[numeric_variables_missing])\n",
    "imputer = SimpleImputer(strategy='most_frequent')\n",
    "X_train[categorical_variables_missing] = imputer.fit_transform(X_train[categorical_variables_missing])\n",
    "\n",
    "X_train['X11'] = X_train['X11'].astype('category')\n",
    "X_train['X12'] = X_train['X12'].astype('category')\n"
   ]
  },
  {
   "cell_type": "code",
   "execution_count": 8,
   "metadata": {},
   "outputs": [
    {
     "data": {
      "text/plain": [
       "Unnamed: 0    0\n",
       "X1            0\n",
       "X2            0\n",
       "X3            0\n",
       "X4            0\n",
       "X5            0\n",
       "X6            0\n",
       "X7            0\n",
       "X8            0\n",
       "X9            0\n",
       "X10           0\n",
       "X11           0\n",
       "X12           0\n",
       "dtype: int64"
      ]
     },
     "execution_count": 8,
     "metadata": {},
     "output_type": "execute_result"
    }
   ],
   "source": [
    "X_test.isna().sum()"
   ]
  },
  {
   "attachments": {},
   "cell_type": "markdown",
   "metadata": {},
   "source": [
    "We are gonna study the Linear Discriminant Analysis now"
   ]
  },
  {
   "cell_type": "code",
   "execution_count": 48,
   "metadata": {},
   "outputs": [],
   "source": [
    "X_train_num  = X_train[['X1','X2','X3','X4','X5','X6', 'X7', 'X8', 'X9']]\n",
    "X_train_cat = X_train[['X11']]\n",
    "X_test_num = X_test[['X1','X2','X3','X4','X5','X6', 'X7', 'X8', 'X9']]\n",
    "X_test_cat = X_test[['X11']]\n",
    "\n"
   ]
  },
  {
   "cell_type": "code",
   "execution_count": null,
   "metadata": {},
   "outputs": [],
   "source": []
  },
  {
   "cell_type": "code",
   "execution_count": 49,
   "metadata": {},
   "outputs": [
    {
     "name": "stderr",
     "output_type": "stream",
     "text": [
      "c:\\Users\\cmari\\AppData\\Local\\Programs\\Python\\Python311\\Lib\\site-packages\\sklearn\\preprocessing\\_encoders.py:828: FutureWarning: `sparse` was renamed to `sparse_output` in version 1.2 and will be removed in 1.4. `sparse_output` is ignored unless you leave `sparse` to its default value.\n",
      "  warnings.warn(\n",
      "c:\\Users\\cmari\\AppData\\Local\\Programs\\Python\\Python311\\Lib\\site-packages\\sklearn\\preprocessing\\_encoders.py:828: FutureWarning: `sparse` was renamed to `sparse_output` in version 1.2 and will be removed in 1.4. `sparse_output` is ignored unless you leave `sparse` to its default value.\n",
      "  warnings.warn(\n"
     ]
    },
    {
     "data": {
      "text/plain": [
       "(17431, 4)"
      ]
     },
     "execution_count": 49,
     "metadata": {},
     "output_type": "execute_result"
    }
   ],
   "source": [
    "ohe = OneHotEncoder(sparse=False)\n",
    "X_train_categorical_encoded = ohe.fit_transform(X_train_cat)\n",
    "X_test_cat_encoded = ohe.fit_transform(X_test_cat)\n",
    "\n",
    "X_train_categorical_encoded.shape\n",
    "X_test_cat_encoded.shape\n"
   ]
  },
  {
   "cell_type": "code",
   "execution_count": 50,
   "metadata": {},
   "outputs": [],
   "source": [
    "X_train_num = np.concatenate((X_train_num, X_train_categorical_encoded), axis=1)\n",
    "X_test_num = np.concatenate((X_test_num, X_test_cat_encoded), axis=1)\n"
   ]
  },
  {
   "cell_type": "code",
   "execution_count": 51,
   "metadata": {},
   "outputs": [
    {
     "name": "stdout",
     "output_type": "stream",
     "text": [
      "Running Linear Discriminant Analysis\n"
     ]
    },
    {
     "name": "stderr",
     "output_type": "stream",
     "text": [
      "c:\\Users\\cmari\\AppData\\Local\\Programs\\Python\\Python311\\Lib\\site-packages\\sklearn\\model_selection\\_search.py:305: UserWarning: The total space of parameters 1 is smaller than n_iter=10. Running 1 iterations. For exhaustive searches, use GridSearchCV.\n",
      "  warnings.warn(\n"
     ]
    },
    {
     "name": "stdout",
     "output_type": "stream",
     "text": [
      "Log loss: 0.899109069998751\n",
      "Best hyperparameters: {}\n"
     ]
    }
   ],
   "source": [
    "default_grid_params = dict(n_iter=10, cv=5, n_jobs=4)\n",
    "lda = LinearDiscriminantAnalysis()\n",
    "param_grid_lda = {}\n",
    "grids = {\n",
    "    'Linear Discriminant Analysis': RandomizedSearchCV(lda, param_grid_lda, scoring='neg_log_loss', **default_grid_params),\n",
    "}\n",
    "\n",
    "for model_name, model in grids.items():\n",
    "    print('Running', model_name)\n",
    "    # Note that by default the argument `refit` of `GridSearchCV` is set to True, so that the best estimator \n",
    "    # is refit on the whole training set.\n",
    "    model.fit(X_train_num, y_train)\n",
    "\n",
    "\n",
    "\n",
    "    y_pred_proba = model.predict_proba(X_train_num)\n",
    "    test_log_loss = log_loss(y_train, y_pred_proba, labels=model.classes_)\n",
    "    print('Log loss:', test_log_loss)\n",
    "\n",
    "    \n",
    "    print(f'Best hyperparameters: {model.best_params_}')\n",
    "\n",
    "    pred_prob_test = pd.DataFrame(model.predict_proba(X_test_num))\n",
    "    pred_prob_test.rename(columns = {0: 'Y_1', 1: 'Y_2', 2: 'Y_3', 3: 'Y_4', 4: 'Y_5', 5:'Y_6', 6:'Y_7'}, inplace = True)\n",
    "    idx = pred_prob_test.index\n",
    "    pred_prob_test.insert(0, 'id', idx)\n",
    "\n",
    "\n"
   ]
  },
  {
   "cell_type": "code",
   "execution_count": 52,
   "metadata": {},
   "outputs": [
    {
     "data": {
      "text/html": [
       "<div>\n",
       "<style scoped>\n",
       "    .dataframe tbody tr th:only-of-type {\n",
       "        vertical-align: middle;\n",
       "    }\n",
       "\n",
       "    .dataframe tbody tr th {\n",
       "        vertical-align: top;\n",
       "    }\n",
       "\n",
       "    .dataframe thead th {\n",
       "        text-align: right;\n",
       "    }\n",
       "</style>\n",
       "<table border=\"1\" class=\"dataframe\">\n",
       "  <thead>\n",
       "    <tr style=\"text-align: right;\">\n",
       "      <th></th>\n",
       "      <th>id</th>\n",
       "      <th>Y_1</th>\n",
       "      <th>Y_2</th>\n",
       "      <th>Y_3</th>\n",
       "      <th>Y_4</th>\n",
       "      <th>Y_5</th>\n",
       "      <th>Y_6</th>\n",
       "      <th>Y_7</th>\n",
       "    </tr>\n",
       "  </thead>\n",
       "  <tbody>\n",
       "    <tr>\n",
       "      <th>0</th>\n",
       "      <td>0</td>\n",
       "      <td>0.147100</td>\n",
       "      <td>0.843143</td>\n",
       "      <td>4.992717e-06</td>\n",
       "      <td>2.661504e-13</td>\n",
       "      <td>0.009525</td>\n",
       "      <td>1.606652e-05</td>\n",
       "      <td>0.000211</td>\n",
       "    </tr>\n",
       "    <tr>\n",
       "      <th>1</th>\n",
       "      <td>1</td>\n",
       "      <td>0.100149</td>\n",
       "      <td>0.865061</td>\n",
       "      <td>1.995906e-05</td>\n",
       "      <td>3.807241e-12</td>\n",
       "      <td>0.034609</td>\n",
       "      <td>2.584669e-05</td>\n",
       "      <td>0.000135</td>\n",
       "    </tr>\n",
       "    <tr>\n",
       "      <th>2</th>\n",
       "      <td>2</td>\n",
       "      <td>0.574129</td>\n",
       "      <td>0.415960</td>\n",
       "      <td>8.529654e-08</td>\n",
       "      <td>5.063083e-15</td>\n",
       "      <td>0.000869</td>\n",
       "      <td>3.137367e-07</td>\n",
       "      <td>0.009041</td>\n",
       "    </tr>\n",
       "    <tr>\n",
       "      <th>3</th>\n",
       "      <td>3</td>\n",
       "      <td>0.147437</td>\n",
       "      <td>0.830682</td>\n",
       "      <td>4.253229e-05</td>\n",
       "      <td>1.466901e-12</td>\n",
       "      <td>0.021148</td>\n",
       "      <td>2.650824e-04</td>\n",
       "      <td>0.000425</td>\n",
       "    </tr>\n",
       "    <tr>\n",
       "      <th>4</th>\n",
       "      <td>4</td>\n",
       "      <td>0.585734</td>\n",
       "      <td>0.316710</td>\n",
       "      <td>5.233848e-07</td>\n",
       "      <td>1.001095e-13</td>\n",
       "      <td>0.002573</td>\n",
       "      <td>4.059705e-07</td>\n",
       "      <td>0.094983</td>\n",
       "    </tr>\n",
       "  </tbody>\n",
       "</table>\n",
       "</div>"
      ],
      "text/plain": [
       "   id       Y_1       Y_2           Y_3           Y_4       Y_5           Y_6  \\\n",
       "0   0  0.147100  0.843143  4.992717e-06  2.661504e-13  0.009525  1.606652e-05   \n",
       "1   1  0.100149  0.865061  1.995906e-05  3.807241e-12  0.034609  2.584669e-05   \n",
       "2   2  0.574129  0.415960  8.529654e-08  5.063083e-15  0.000869  3.137367e-07   \n",
       "3   3  0.147437  0.830682  4.253229e-05  1.466901e-12  0.021148  2.650824e-04   \n",
       "4   4  0.585734  0.316710  5.233848e-07  1.001095e-13  0.002573  4.059705e-07   \n",
       "\n",
       "        Y_7  \n",
       "0  0.000211  \n",
       "1  0.000135  \n",
       "2  0.009041  \n",
       "3  0.000425  \n",
       "4  0.094983  "
      ]
     },
     "execution_count": 52,
     "metadata": {},
     "output_type": "execute_result"
    }
   ],
   "source": [
    "pred_prob_test.head()"
   ]
  },
  {
   "cell_type": "code",
   "execution_count": 53,
   "metadata": {},
   "outputs": [],
   "source": [
    "y_pred = model.predict(X_train_num)"
   ]
  },
  {
   "cell_type": "code",
   "execution_count": 54,
   "metadata": {},
   "outputs": [
    {
     "data": {
      "text/plain": [
       "<Axes: ylabel='count'>"
      ]
     },
     "execution_count": 54,
     "metadata": {},
     "output_type": "execute_result"
    },
    {
     "data": {
      "image/png": "[encoded data removed]",
      "text/plain": [
       "<Figure size 640x480 with 1 Axes>"
      ]
     },
     "metadata": {},
     "output_type": "display_data"
    }
   ],
   "source": [
    "sns.countplot(x = y_pred)"
   ]
  },
  {
   "cell_type": "code",
   "execution_count": 55,
   "metadata": {},
   "outputs": [
    {
     "data": {
      "text/plain": [
       "array([[10697,  4019,     0,     0,     0,     0,   103],\n",
       "       [ 4177, 15416,   127,    78,     6,     3,     2],\n",
       "       [    0,   975,   905,   543,    70,     7,     0],\n",
       "       [    0,     0,    20,   171,     0,     0,     0],\n",
       "       [    0,   664,     0,     0,     0,     0,     0],\n",
       "       [    0,   560,   470,   176,     4,     5,     0],\n",
       "       [ 1212,    22,     0,     0,     0,     0,   200]], dtype=int64)"
      ]
     },
     "execution_count": 55,
     "metadata": {},
     "output_type": "execute_result"
    }
   ],
   "source": [
    "confusion_matrix(y_train, y_pred)"
   ]
  },
  {
   "cell_type": "code",
   "execution_count": 56,
   "metadata": {},
   "outputs": [],
   "source": [
    "pred_prob_test.to_csv(\"model/group13lda.csv\", index=False)"
   ]
  },
  {
   "cell_type": "code",
   "execution_count": null,
   "metadata": {},
   "outputs": [],
   "source": []
  },
  {
   "attachments": {},
   "cell_type": "markdown",
   "metadata": {},
   "source": [
    "We are gonna use SelectKBest"
   ]
  },
  {
   "cell_type": "code",
   "execution_count": 100,
   "metadata": {},
   "outputs": [],
   "source": [
    "X_train_num = X_train[['X1', 'X2', 'X3', 'X4', 'X5', 'X6', 'X7', 'X8', 'X9', 'X10']]\n",
    "scaler = MinMaxScaler()\n",
    "scaled = scaler.fit_transform(X_train_num)\n",
    "\n",
    "select = SelectKBest(chi2, k=5)\n",
    "z = select.fit(scaled, y_train)\n",
    "    "
   ]
  },
  {
   "cell_type": "code",
   "execution_count": 98,
   "metadata": {},
   "outputs": [
    {
     "data": {
      "text/plain": [
       "array(['x0', 'x2', 'x3', 'x5', 'x9'], dtype=object)"
      ]
     },
     "execution_count": 98,
     "metadata": {},
     "output_type": "execute_result"
    }
   ],
   "source": [
    "z.get_feature_names_out()"
   ]
  },
  {
   "cell_type": "code",
   "execution_count": null,
   "metadata": {},
   "outputs": [],
   "source": []
  },
  {
   "attachments": {},
   "cell_type": "markdown",
   "metadata": {},
   "source": [
    "We are gonna study the gradient boosting algorithm"
   ]
  },
  {
   "cell_type": "code",
   "execution_count": 18,
   "metadata": {},
   "outputs": [],
   "source": [
    "X_train_num  = X_train[['X1','X3', 'X6']]\n",
    "X_train_cat = X_train[['X11']]\n",
    "X_test_num = X_test[['X1','X3', 'X6']]\n",
    "X_test_cat = X_test[['X11']]"
   ]
  },
  {
   "cell_type": "code",
   "execution_count": 19,
   "metadata": {},
   "outputs": [
    {
     "name": "stderr",
     "output_type": "stream",
     "text": [
      "c:\\Users\\cmari\\AppData\\Local\\Programs\\Python\\Python311\\Lib\\site-packages\\sklearn\\preprocessing\\_encoders.py:828: FutureWarning: `sparse` was renamed to `sparse_output` in version 1.2 and will be removed in 1.4. `sparse_output` is ignored unless you leave `sparse` to its default value.\n",
      "  warnings.warn(\n",
      "c:\\Users\\cmari\\AppData\\Local\\Programs\\Python\\Python311\\Lib\\site-packages\\sklearn\\preprocessing\\_encoders.py:828: FutureWarning: `sparse` was renamed to `sparse_output` in version 1.2 and will be removed in 1.4. `sparse_output` is ignored unless you leave `sparse` to its default value.\n",
      "  warnings.warn(\n"
     ]
    }
   ],
   "source": [
    "ohe = OneHotEncoder(sparse=False)\n",
    "X_train_categorical_encoded = ohe.fit_transform(X_train_cat)\n",
    "X_test_cat_encoded = ohe.fit_transform(X_test_cat)\n"
   ]
  },
  {
   "cell_type": "code",
   "execution_count": 20,
   "metadata": {},
   "outputs": [],
   "source": [
    "X_train_num = np.concatenate((X_train_num, X_train_categorical_encoded), axis=1)\n",
    "X_test_num = np.concatenate((X_test_num, X_test_cat_encoded), axis=1)"
   ]
  },
  {
   "cell_type": "code",
   "execution_count": 23,
   "metadata": {},
   "outputs": [
    {
     "name": "stdout",
     "output_type": "stream",
     "text": [
      "Running Gradient Boosting\n"
     ]
    }
   ],
   "source": [
    "gb = GradientBoostingClassifier()\n",
    "default_grid_params = dict(n_iter=10, cv=5, n_jobs=4)\n",
    "param_grid_gb = {\n",
    "    'loss': ['log_loss'],\n",
    "    'learning_rate': [0.02, 0.1, 0.5],\n",
    "    'n_estimators': [100, 200, 300],\n",
    "    'criterion': ['friedman_mse', 'squared_error'],\n",
    "    'max_depth': [None, 2, 5, 10],\n",
    "}\n",
    "\n",
    "grids = {\n",
    "    'Gradient Boosting': RandomizedSearchCV(gb, param_grid_gb, scoring='neg_log_loss', **default_grid_params),\n",
    "}\n",
    "\n",
    "for model_name, model in grids.items():\n",
    "    print('Running', model_name)\n",
    "    # Note that by default the argument `refit` of `GridSearchCV` is set to True, so that the best estimator \n",
    "    # is refit on the whole training set.\n",
    "    model.fit(X_train_num, y_train)\n",
    "\n",
    "\n",
    "\n",
    "    y_pred_proba = model.predict_proba(X_train_num)\n",
    "    test_log_loss = log_loss(y_train, y_pred_proba, labels=model.classes_)\n",
    "    print('Log loss:', test_log_loss)\n",
    "    \n",
    "    print(f'Best hyperparameters: {model.best_params_}')"
   ]
  },
  {
   "attachments": {},
   "cell_type": "markdown",
   "metadata": {},
   "source": [
    "Implementing Naive Bayes"
   ]
  },
  {
   "cell_type": "code",
   "execution_count": 33,
   "metadata": {},
   "outputs": [],
   "source": [
    "X_train_num  = X_train[['X1','X3','X4','X6', 'X10', 'X7']]\n",
    "X_train_cat = X_train[['X11']]\n",
    "X_test_num = X_test[['X1','X3','X4','X6', 'X10', 'X7']]\n",
    "X_test_cat = X_test[['X11']]\n"
   ]
  },
  {
   "cell_type": "code",
   "execution_count": 34,
   "metadata": {},
   "outputs": [
    {
     "name": "stderr",
     "output_type": "stream",
     "text": [
      "c:\\Users\\cmari\\AppData\\Local\\Programs\\Python\\Python311\\Lib\\site-packages\\sklearn\\preprocessing\\_encoders.py:828: FutureWarning: `sparse` was renamed to `sparse_output` in version 1.2 and will be removed in 1.4. `sparse_output` is ignored unless you leave `sparse` to its default value.\n",
      "  warnings.warn(\n",
      "c:\\Users\\cmari\\AppData\\Local\\Programs\\Python\\Python311\\Lib\\site-packages\\sklearn\\preprocessing\\_encoders.py:828: FutureWarning: `sparse` was renamed to `sparse_output` in version 1.2 and will be removed in 1.4. `sparse_output` is ignored unless you leave `sparse` to its default value.\n",
      "  warnings.warn(\n"
     ]
    }
   ],
   "source": [
    "ohe = OneHotEncoder(sparse=False)\n",
    "X_train_categorical_encoded = ohe.fit_transform(X_train_cat)\n",
    "X_test_cat_encoded = ohe.fit_transform(X_test_cat)\n"
   ]
  },
  {
   "cell_type": "code",
   "execution_count": 35,
   "metadata": {},
   "outputs": [],
   "source": [
    "X_train_num = np.concatenate((X_train_num, X_train_categorical_encoded), axis=1)\n",
    "X_test_num = np.concatenate((X_test_num, X_test_cat_encoded), axis=1)"
   ]
  },
  {
   "cell_type": "code",
   "execution_count": 36,
   "metadata": {},
   "outputs": [],
   "source": [
    "param_grid_nb = {}\n"
   ]
  },
  {
   "cell_type": "code",
   "execution_count": 48,
   "metadata": {},
   "outputs": [
    {
     "name": "stderr",
     "output_type": "stream",
     "text": [
      "c:\\Users\\cmari\\AppData\\Local\\Programs\\Python\\Python311\\Lib\\site-packages\\sklearn\\model_selection\\_search.py:305: UserWarning: The total space of parameters 1 is smaller than n_iter=10. Running 1 iterations. For exhaustive searches, use GridSearchCV.\n",
      "  warnings.warn(\n"
     ]
    },
    {
     "name": "stdout",
     "output_type": "stream",
     "text": [
      "Log loss: 1.3802023277785136\n",
      "Best hyperparameters: {}\n"
     ]
    }
   ],
   "source": [
    "nb = GaussianNB()\n",
    "\n",
    "default_grid_params = dict(n_iter=10, cv=5, n_jobs=4)\n",
    "model = RandomizedSearchCV(nb, param_grid_nb, scoring='neg_log_loss', **default_grid_params)\n",
    "\n",
    "default_grid_params = dict(n_iter=10, cv=5, n_jobs=4)\n",
    "\n",
    "model.fit(X_train_num, y_train)\n",
    "\n",
    "y_pred = model.predict(X_test_num)\n",
    "\n",
    "\n",
    "y_pred_proba = model.predict_proba(X_train_num)\n",
    "pred_prob_test = pd.DataFrame(model.predict_proba(X_test_num))\n",
    "pred_prob_test.rename(columns = {0: 'Y_1', 1: 'Y_2', 2: 'Y_3', 3: 'Y_4', 4: 'Y_5', 5:'Y_6', 6:'Y_7'}, inplace = True)\n",
    "idx = pred_prob_test.index\n",
    "pred_prob_test.insert(0, 'id', idx)\n",
    "\n",
    "test_log_loss = log_loss(y_train, y_pred_proba, labels=model.classes_)\n",
    "print('Log loss:', test_log_loss)\n",
    "print(f'Best hyperparameters: {model.best_params_}')"
   ]
  },
  {
   "cell_type": "code",
   "execution_count": 49,
   "metadata": {},
   "outputs": [],
   "source": [
    "pred_prob_test.to_csv(\"model/group13nb.csv\", index=False)"
   ]
  },
  {
   "cell_type": "code",
   "execution_count": 44,
   "metadata": {},
   "outputs": [
    {
     "data": {
      "text/plain": [
       "<Axes: ylabel='count'>"
      ]
     },
     "execution_count": 44,
     "metadata": {},
     "output_type": "execute_result"
    },
    {
     "data": {
      "image/png": "[encoded data removed]",
      "text/plain": [
       "<Figure size 640x480 with 1 Axes>"
      ]
     },
     "metadata": {},
     "output_type": "display_data"
    }
   ],
   "source": [
    "sns.countplot(x = y_pred)"
   ]
  },
  {
   "cell_type": "code",
   "execution_count": null,
   "metadata": {},
   "outputs": [],
   "source": []
  },
  {
   "attachments": {},
   "cell_type": "markdown",
   "metadata": {},
   "source": [
    "In this section we will devolope the next idea: We are gonna split our train.csv in order to have two different type of data and make like one y_test"
   ]
  },
  {
   "cell_type": "code",
   "execution_count": 53,
   "metadata": {},
   "outputs": [
    {
     "data": {
      "text/html": [
       "<div>\n",
       "<style scoped>\n",
       "    .dataframe tbody tr th:only-of-type {\n",
       "        vertical-align: middle;\n",
       "    }\n",
       "\n",
       "    .dataframe tbody tr th {\n",
       "        vertical-align: top;\n",
       "    }\n",
       "\n",
       "    .dataframe thead th {\n",
       "        text-align: right;\n",
       "    }\n",
       "</style>\n",
       "<table border=\"1\" class=\"dataframe\">\n",
       "  <thead>\n",
       "    <tr style=\"text-align: right;\">\n",
       "      <th></th>\n",
       "      <th>X1</th>\n",
       "      <th>X2</th>\n",
       "      <th>X3</th>\n",
       "      <th>X4</th>\n",
       "      <th>X5</th>\n",
       "      <th>X6</th>\n",
       "      <th>X7</th>\n",
       "      <th>X8</th>\n",
       "      <th>X9</th>\n",
       "      <th>X10</th>\n",
       "      <th>X11</th>\n",
       "      <th>X12</th>\n",
       "      <th>Y</th>\n",
       "    </tr>\n",
       "  </thead>\n",
       "  <tbody>\n",
       "    <tr>\n",
       "      <th>0</th>\n",
       "      <td>3215.0</td>\n",
       "      <td>206.0</td>\n",
       "      <td>8.0</td>\n",
       "      <td>127.0</td>\n",
       "      <td>14.0</td>\n",
       "      <td>5588.0</td>\n",
       "      <td>215.0</td>\n",
       "      <td>248.0</td>\n",
       "      <td>168.0</td>\n",
       "      <td>1057.0</td>\n",
       "      <td>T1</td>\n",
       "      <td>T29</td>\n",
       "      <td>1.0</td>\n",
       "    </tr>\n",
       "    <tr>\n",
       "      <th>1</th>\n",
       "      <td>3022.0</td>\n",
       "      <td>18.0</td>\n",
       "      <td>7.0</td>\n",
       "      <td>0.0</td>\n",
       "      <td>0.0</td>\n",
       "      <td>3012.0</td>\n",
       "      <td>215.0</td>\n",
       "      <td>226.0</td>\n",
       "      <td>148.0</td>\n",
       "      <td>1476.0</td>\n",
       "      <td>T1</td>\n",
       "      <td>T23</td>\n",
       "      <td>1.0</td>\n",
       "    </tr>\n",
       "    <tr>\n",
       "      <th>2</th>\n",
       "      <td>3008.0</td>\n",
       "      <td>18.0</td>\n",
       "      <td>19.0</td>\n",
       "      <td>382.0</td>\n",
       "      <td>92.0</td>\n",
       "      <td>4715.0</td>\n",
       "      <td>201.0</td>\n",
       "      <td>197.0</td>\n",
       "      <td>127.0</td>\n",
       "      <td>3616.0</td>\n",
       "      <td>T1</td>\n",
       "      <td>T29</td>\n",
       "      <td>1.0</td>\n",
       "    </tr>\n",
       "    <tr>\n",
       "      <th>3</th>\n",
       "      <td>2595.0</td>\n",
       "      <td>296.0</td>\n",
       "      <td>24.0</td>\n",
       "      <td>85.0</td>\n",
       "      <td>28.0</td>\n",
       "      <td>1252.0</td>\n",
       "      <td>144.0</td>\n",
       "      <td>224.0</td>\n",
       "      <td>216.0</td>\n",
       "      <td>780.0</td>\n",
       "      <td>T3</td>\n",
       "      <td>T33</td>\n",
       "      <td>6.0</td>\n",
       "    </tr>\n",
       "    <tr>\n",
       "      <th>4</th>\n",
       "      <td>3261.0</td>\n",
       "      <td>87.0</td>\n",
       "      <td>4.0</td>\n",
       "      <td>42.0</td>\n",
       "      <td>-2.0</td>\n",
       "      <td>3719.0</td>\n",
       "      <td>226.0</td>\n",
       "      <td>233.0</td>\n",
       "      <td>142.0</td>\n",
       "      <td>3784.0</td>\n",
       "      <td>T1</td>\n",
       "      <td>T38</td>\n",
       "      <td>7.0</td>\n",
       "    </tr>\n",
       "  </tbody>\n",
       "</table>\n",
       "</div>"
      ],
      "text/plain": [
       "       X1     X2    X3     X4    X5      X6     X7     X8     X9     X10 X11  \\\n",
       "0  3215.0  206.0   8.0  127.0  14.0  5588.0  215.0  248.0  168.0  1057.0  T1   \n",
       "1  3022.0   18.0   7.0    0.0   0.0  3012.0  215.0  226.0  148.0  1476.0  T1   \n",
       "2  3008.0   18.0  19.0  382.0  92.0  4715.0  201.0  197.0  127.0  3616.0  T1   \n",
       "3  2595.0  296.0  24.0   85.0  28.0  1252.0  144.0  224.0  216.0   780.0  T3   \n",
       "4  3261.0   87.0   4.0   42.0  -2.0  3719.0  226.0  233.0  142.0  3784.0  T1   \n",
       "\n",
       "   X12    Y  \n",
       "0  T29  1.0  \n",
       "1  T23  1.0  \n",
       "2  T29  1.0  \n",
       "3  T33  6.0  \n",
       "4  T38  7.0  "
      ]
     },
     "execution_count": 53,
     "metadata": {},
     "output_type": "execute_result"
    }
   ],
   "source": [
    "df_train = pd.read_csv('data/train.csv')\n",
    "df_train.dropna(subset=['Y'], inplace=True)\n",
    "\n",
    "X = df_train.drop('Y', axis = 1)\n",
    "y = df_train['Y']\n",
    "\n",
    "\n",
    "X_test_prueb = pd.read_csv('data/Xtest.csv')\n",
    "df_train.head()"
   ]
  },
  {
   "cell_type": "code",
   "execution_count": 54,
   "metadata": {},
   "outputs": [],
   "source": [
    "X = X.astype({'X11':'category', 'X12': 'category'})\n",
    "X_test_prueb = X_test_prueb.astype({'X11':'category', 'X12':'category'})"
   ]
  },
  {
   "cell_type": "code",
   "execution_count": 55,
   "metadata": {},
   "outputs": [],
   "source": [
    "X_train, X_test, y_train, y_test = train_test_split(X, y, test_size=0.2, random_state=42)"
   ]
  },
  {
   "cell_type": "code",
   "execution_count": 56,
   "metadata": {},
   "outputs": [],
   "source": [
    "columna = ['X11']\n",
    "imputer = SimpleImputer(strategy='most_frequent')\n",
    "\n",
    "X_train[columna] = imputer.fit_transform(X_train[columna])\n",
    "X_test[columna] = imputer.fit_transform(X_test[columna])\n",
    "\n",
    "X_train_cat = pd.DataFrame(X_train[columna])\n",
    "X_test_cat = pd.DataFrame(X_test[columna])\n",
    "\n",
    "columnas = ['X1', 'X3','X4', 'X6', 'X10']\n",
    "\n",
    "# Rellenar los valores faltantes con la media\n",
    "imputer = SimpleImputer(strategy='mean')\n",
    "X_train[columnas] = imputer.fit_transform(X_train[columnas])\n",
    "X_test[columnas] = imputer.fit_transform(X_test[columnas])\n",
    "\n",
    "# Convertir a un array de numpy\n",
    "X_train_sub = pd.DataFrame(X_train[columnas])\n",
    "X_test_sub = pd.DataFrame(X_test[columnas])"
   ]
  },
  {
   "cell_type": "code",
   "execution_count": 57,
   "metadata": {},
   "outputs": [
    {
     "data": {
      "text/plain": [
       "X1     float64\n",
       "X3     float64\n",
       "X4     float64\n",
       "X6     float64\n",
       "X10    float64\n",
       "dtype: object"
      ]
     },
     "execution_count": 57,
     "metadata": {},
     "output_type": "execute_result"
    }
   ],
   "source": [
    "X_test_sub.dtypes"
   ]
  },
  {
   "cell_type": "code",
   "execution_count": 58,
   "metadata": {},
   "outputs": [
    {
     "name": "stderr",
     "output_type": "stream",
     "text": [
      "c:\\Users\\cmari\\AppData\\Local\\Programs\\Python\\Python311\\Lib\\site-packages\\sklearn\\preprocessing\\_encoders.py:828: FutureWarning: `sparse` was renamed to `sparse_output` in version 1.2 and will be removed in 1.4. `sparse_output` is ignored unless you leave `sparse` to its default value.\n",
      "  warnings.warn(\n",
      "c:\\Users\\cmari\\AppData\\Local\\Programs\\Python\\Python311\\Lib\\site-packages\\sklearn\\preprocessing\\_encoders.py:828: FutureWarning: `sparse` was renamed to `sparse_output` in version 1.2 and will be removed in 1.4. `sparse_output` is ignored unless you leave `sparse` to its default value.\n",
      "  warnings.warn(\n",
      "c:\\Users\\cmari\\AppData\\Local\\Programs\\Python\\Python311\\Lib\\site-packages\\sklearn\\preprocessing\\_encoders.py:828: FutureWarning: `sparse` was renamed to `sparse_output` in version 1.2 and will be removed in 1.4. `sparse_output` is ignored unless you leave `sparse` to its default value.\n",
      "  warnings.warn(\n"
     ]
    },
    {
     "name": "stdout",
     "output_type": "stream",
     "text": [
      "Log loss: 0.4239276531463472\n",
      "Accuracy: 0.8319182970345761\n"
     ]
    },
    {
     "data": {
      "text/html": [
       "<div>\n",
       "<style scoped>\n",
       "    .dataframe tbody tr th:only-of-type {\n",
       "        vertical-align: middle;\n",
       "    }\n",
       "\n",
       "    .dataframe tbody tr th {\n",
       "        vertical-align: top;\n",
       "    }\n",
       "\n",
       "    .dataframe thead th {\n",
       "        text-align: right;\n",
       "    }\n",
       "</style>\n",
       "<table border=\"1\" class=\"dataframe\">\n",
       "  <thead>\n",
       "    <tr style=\"text-align: right;\">\n",
       "      <th></th>\n",
       "      <th>id</th>\n",
       "      <th>Y_1</th>\n",
       "      <th>Y_2</th>\n",
       "      <th>Y_3</th>\n",
       "      <th>Y_4</th>\n",
       "      <th>Y_5</th>\n",
       "      <th>Y_6</th>\n",
       "      <th>Y_7</th>\n",
       "    </tr>\n",
       "  </thead>\n",
       "  <tbody>\n",
       "    <tr>\n",
       "      <th>0</th>\n",
       "      <td>0</td>\n",
       "      <td>0.028607</td>\n",
       "      <td>0.971393</td>\n",
       "      <td>0.000000</td>\n",
       "      <td>0.0</td>\n",
       "      <td>0.000000</td>\n",
       "      <td>0.000000</td>\n",
       "      <td>0.000000</td>\n",
       "    </tr>\n",
       "    <tr>\n",
       "      <th>1</th>\n",
       "      <td>1</td>\n",
       "      <td>0.014167</td>\n",
       "      <td>0.979000</td>\n",
       "      <td>0.000000</td>\n",
       "      <td>0.0</td>\n",
       "      <td>0.006833</td>\n",
       "      <td>0.000000</td>\n",
       "      <td>0.000000</td>\n",
       "    </tr>\n",
       "    <tr>\n",
       "      <th>2</th>\n",
       "      <td>2</td>\n",
       "      <td>0.689462</td>\n",
       "      <td>0.310538</td>\n",
       "      <td>0.000000</td>\n",
       "      <td>0.0</td>\n",
       "      <td>0.000000</td>\n",
       "      <td>0.000000</td>\n",
       "      <td>0.000000</td>\n",
       "    </tr>\n",
       "    <tr>\n",
       "      <th>3</th>\n",
       "      <td>3</td>\n",
       "      <td>0.125530</td>\n",
       "      <td>0.813884</td>\n",
       "      <td>0.002155</td>\n",
       "      <td>0.0</td>\n",
       "      <td>0.025192</td>\n",
       "      <td>0.033221</td>\n",
       "      <td>0.000018</td>\n",
       "    </tr>\n",
       "    <tr>\n",
       "      <th>4</th>\n",
       "      <td>4</td>\n",
       "      <td>0.154929</td>\n",
       "      <td>0.828571</td>\n",
       "      <td>0.000000</td>\n",
       "      <td>0.0</td>\n",
       "      <td>0.000000</td>\n",
       "      <td>0.000000</td>\n",
       "      <td>0.016500</td>\n",
       "    </tr>\n",
       "  </tbody>\n",
       "</table>\n",
       "</div>"
      ],
      "text/plain": [
       "   id       Y_1       Y_2       Y_3  Y_4       Y_5       Y_6       Y_7\n",
       "0   0  0.028607  0.971393  0.000000  0.0  0.000000  0.000000  0.000000\n",
       "1   1  0.014167  0.979000  0.000000  0.0  0.006833  0.000000  0.000000\n",
       "2   2  0.689462  0.310538  0.000000  0.0  0.000000  0.000000  0.000000\n",
       "3   3  0.125530  0.813884  0.002155  0.0  0.025192  0.033221  0.000018\n",
       "4   4  0.154929  0.828571  0.000000  0.0  0.000000  0.000000  0.016500"
      ]
     },
     "execution_count": 58,
     "metadata": {},
     "output_type": "execute_result"
    }
   ],
   "source": [
    "X_train_num  = X_train_sub[['X1', 'X3','X4','X6','X10']]\n",
    "X_train_cat = X_train[['X11']]\n",
    "X_test_num = X_test_sub[['X1', 'X3','X4', 'X6','X10']]\n",
    "X_test_cat = X_test[['X11']]\n",
    "\n",
    "\n",
    "\n",
    "\n",
    "ohe = OneHotEncoder(sparse=False)\n",
    "X_train_categorical_encoded = ohe.fit_transform(X_train_cat)\n",
    "X_test_cat_encoded = ohe.fit_transform(X_test_cat)\n",
    "\n",
    "\n",
    "#The real test\n",
    "X_test_prueb_num = X_test_prueb[['X1', 'X3','X4' ,'X6', 'X10']]\n",
    "X_test_prueb_cat = X_test_prueb[['X11']]\n",
    "X_prueb_cat_encoded = ohe.fit_transform(X_test_prueb_cat)\n",
    "\n",
    "X_test_final = np.concatenate((X_test_prueb_num, X_prueb_cat_encoded), axis=1)\n",
    "\n",
    "\n",
    "\n",
    "X_train_sub = np.concatenate((X_train_num, X_train_categorical_encoded), axis=1)\n",
    "X_test_num = np.concatenate((X_test_num, X_test_cat_encoded), axis=1)\n",
    "\n",
    "\n",
    "\n",
    "param_grid_rf = {\n",
    "    'criterion': ['gini', 'entropy','log_loss'],\n",
    "    'n_estimators': [100, 200, 300, 400, 500],\n",
    "    'max_depth': [None, 2, 5, 10],\n",
    "    'min_samples_split': [2, 5, 10],\n",
    "    'min_samples_leaf': [1, 2, 4]\n",
    "}\n",
    "\n",
    "default_grid_params = dict(n_iter=10, cv=5, n_jobs=4)\n",
    "\n",
    "rf = RandomForestClassifier()\n",
    "\n",
    "model = RandomizedSearchCV(rf, param_grid_rf, scoring='neg_log_loss', **default_grid_params)\n",
    "model.fit(X_train_sub, y_train)\n",
    "\n",
    "results = []\n",
    "y_pred_proba = model.predict_proba(X_test_num)\n",
    "test_log_loss = log_loss(y_test, y_pred_proba, labels=model.classes_)\n",
    "print('Log loss:', test_log_loss)\n",
    "\n",
    "y_pred = model.predict(X_test_num)\n",
    "test_accuracy = accuracy_score(y_test, y_pred)\n",
    "print('Accuracy:', test_accuracy)\n",
    "\n",
    "results.append([test_log_loss,test_accuracy])\n",
    "pred_prob_test = pd.DataFrame(model.predict_proba(X_test_final))\n",
    "pred_prob_test.rename(columns = {0: 'Y_1', 1: 'Y_2', 2: 'Y_3', 3: 'Y_4', 4: 'Y_5', 5:'Y_6', 6:'Y_7'}, inplace = True)\n",
    "idx = pred_prob_test.index\n",
    "pred_prob_test.insert(0, 'id', idx)\n",
    "pred_prob_test.head()\n"
   ]
  },
  {
   "cell_type": "code",
   "execution_count": 59,
   "metadata": {},
   "outputs": [
    {
     "name": "stdout",
     "output_type": "stream",
     "text": [
      "Best hyperparameters: {'n_estimators': 200, 'min_samples_split': 5, 'min_samples_leaf': 2, 'max_depth': None, 'criterion': 'gini'}\n"
     ]
    }
   ],
   "source": [
    "print(f'Best hyperparameters: {model.best_params_}')"
   ]
  },
  {
   "cell_type": "code",
   "execution_count": 60,
   "metadata": {},
   "outputs": [],
   "source": [
    "pred_prob_test.to_csv(\"model/group13RFmodified1.csv\", index=False)"
   ]
  },
  {
   "cell_type": "code",
   "execution_count": 62,
   "metadata": {},
   "outputs": [],
   "source": [
    "y_pred2 = model.predict(X_test_final)"
   ]
  },
  {
   "cell_type": "code",
   "execution_count": 63,
   "metadata": {},
   "outputs": [
    {
     "data": {
      "text/plain": [
       "<Axes: ylabel='count'>"
      ]
     },
     "execution_count": 63,
     "metadata": {},
     "output_type": "execute_result"
    },
    {
     "data": {
      "image/png": "[encoded data removed]",
      "text/plain": [
       "<Figure size 640x480 with 1 Axes>"
      ]
     },
     "metadata": {},
     "output_type": "display_data"
    }
   ],
   "source": []
  },
  {
   "cell_type": "code",
   "execution_count": 16,
   "metadata": {},
   "outputs": [
    {
     "name": "stderr",
     "output_type": "stream",
     "text": [
      "c:\\Users\\cmari\\AppData\\Local\\Programs\\Python\\Python311\\Lib\\site-packages\\sklearn\\preprocessing\\_encoders.py:828: FutureWarning: `sparse` was renamed to `sparse_output` in version 1.2 and will be removed in 1.4. `sparse_output` is ignored unless you leave `sparse` to its default value.\n",
      "  warnings.warn(\n",
      "c:\\Users\\cmari\\AppData\\Local\\Programs\\Python\\Python311\\Lib\\site-packages\\sklearn\\preprocessing\\_encoders.py:828: FutureWarning: `sparse` was renamed to `sparse_output` in version 1.2 and will be removed in 1.4. `sparse_output` is ignored unless you leave `sparse` to its default value.\n",
      "  warnings.warn(\n",
      "c:\\Users\\cmari\\AppData\\Local\\Programs\\Python\\Python311\\Lib\\site-packages\\sklearn\\preprocessing\\_encoders.py:828: FutureWarning: `sparse` was renamed to `sparse_output` in version 1.2 and will be removed in 1.4. `sparse_output` is ignored unless you leave `sparse` to its default value.\n",
      "  warnings.warn(\n"
     ]
    }
   ],
   "source": [
    "X_train_num  = X_train_sub[['X1', 'X3','X4','X6', 'X10']]\n",
    "X_train_cat = X_train[['X11']]\n",
    "X_test_num = X_test_sub[['X1', 'X3','X4' ,'X6','X10']]\n",
    "X_test_cat = X_test[['X11']]\n",
    "\n",
    "\n",
    "\n",
    "\n",
    "ohe = OneHotEncoder(sparse=False)\n",
    "X_train_categorical_encoded = ohe.fit_transform(X_train_cat)\n",
    "X_test_cat_encoded = ohe.fit_transform(X_test_cat)\n",
    "\n",
    "\n",
    "#The real test\n",
    "X_test_prueb_num = X_test_prueb[['X1', 'X3', 'X4', 'X6', 'X10']]\n",
    "X_test_prueb_cat = X_test_prueb[['X11']]\n",
    "X_prueb_cat_encoded = ohe.fit_transform(X_test_prueb_cat)\n",
    "\n",
    "X_test_final = np.concatenate((X_test_prueb_num, X_prueb_cat_encoded), axis=1)\n",
    "\n",
    "\n",
    "\n",
    "X_train_sub = np.concatenate((X_train_num, X_train_categorical_encoded), axis=1)\n",
    "X_test_num = np.concatenate((X_test_num, X_test_cat_encoded), axis=1)"
   ]
  },
  {
   "cell_type": "code",
   "execution_count": 43,
   "metadata": {},
   "outputs": [
    {
     "data": {
      "image/png": "[encoded data removed]",
      "text/plain": [
       "<Figure size 640x480 with 1 Axes>"
      ]
     },
     "metadata": {},
     "output_type": "display_data"
    }
   ],
   "source": [
    "n_estimators_values = [10, 50, 100, 200, 500]\n",
    "\n",
    "# Lista para almacenar los resultados\n",
    "val_scores = []\n",
    "log_loss_scores = []\n",
    "\n",
    "# Entrena los modelos y evalúa el rendimiento\n",
    "for n_estimators in n_estimators_values:\n",
    "    model = RandomForestClassifier(n_estimators=n_estimators, min_samples_leaf=2, min_samples_split=2, max_depth=None, criterion='log_loss')\n",
    "    model.fit(X_train_sub, y_train)\n",
    "    y_pred = model.predict(X_test_num)\n",
    "    y_pred_proba = model.predict_proba(X_test_num)\n",
    "    score = accuracy_score(y_test, y_pred)\n",
    "    loss = log_loss(y_test, y_pred_proba)\n",
    "    val_scores.append(score)\n",
    "    log_loss_scores.append(loss)\n",
    "\n",
    "# Grafica la curva de validación\n",
    "plt.plot(n_estimators_values, val_scores, marker='o', label='Accuracy')\n",
    "plt.plot(n_estimators_values, log_loss_scores, marker='o', label='Log Loss')\n",
    "plt.xlabel('n_estimators')\n",
    "plt.ylabel('Metric Score')\n",
    "plt.title('Curva de validación RandomForest')\n",
    "plt.legend()\n",
    "plt.show()"
   ]
  },
  {
   "cell_type": "code",
   "execution_count": 18,
   "metadata": {},
   "outputs": [],
   "source": [
    "model = RandomForestClassifier(n_estimators=500)\n",
    "model.fit(X_train_sub, y_train)\n",
    "y_pred = model.predict(X_test_num)\n",
    "y_pred_proba = model.predict_proba(X_test_num)"
   ]
  },
  {
   "cell_type": "code",
   "execution_count": 19,
   "metadata": {},
   "outputs": [
    {
     "data": {
      "text/html": [
       "<div>\n",
       "<style scoped>\n",
       "    .dataframe tbody tr th:only-of-type {\n",
       "        vertical-align: middle;\n",
       "    }\n",
       "\n",
       "    .dataframe tbody tr th {\n",
       "        vertical-align: top;\n",
       "    }\n",
       "\n",
       "    .dataframe thead th {\n",
       "        text-align: right;\n",
       "    }\n",
       "</style>\n",
       "<table border=\"1\" class=\"dataframe\">\n",
       "  <thead>\n",
       "    <tr style=\"text-align: right;\">\n",
       "      <th></th>\n",
       "      <th>id</th>\n",
       "      <th>Y_1</th>\n",
       "      <th>Y_2</th>\n",
       "      <th>Y_3</th>\n",
       "      <th>Y_4</th>\n",
       "      <th>Y_5</th>\n",
       "      <th>Y_6</th>\n",
       "      <th>Y_7</th>\n",
       "    </tr>\n",
       "  </thead>\n",
       "  <tbody>\n",
       "    <tr>\n",
       "      <th>0</th>\n",
       "      <td>0</td>\n",
       "      <td>0.240</td>\n",
       "      <td>0.760</td>\n",
       "      <td>0.0</td>\n",
       "      <td>0.0</td>\n",
       "      <td>0.000</td>\n",
       "      <td>0.000</td>\n",
       "      <td>0.000</td>\n",
       "    </tr>\n",
       "    <tr>\n",
       "      <th>1</th>\n",
       "      <td>1</td>\n",
       "      <td>0.064</td>\n",
       "      <td>0.936</td>\n",
       "      <td>0.0</td>\n",
       "      <td>0.0</td>\n",
       "      <td>0.000</td>\n",
       "      <td>0.000</td>\n",
       "      <td>0.000</td>\n",
       "    </tr>\n",
       "    <tr>\n",
       "      <th>2</th>\n",
       "      <td>2</td>\n",
       "      <td>0.740</td>\n",
       "      <td>0.260</td>\n",
       "      <td>0.0</td>\n",
       "      <td>0.0</td>\n",
       "      <td>0.000</td>\n",
       "      <td>0.000</td>\n",
       "      <td>0.000</td>\n",
       "    </tr>\n",
       "    <tr>\n",
       "      <th>3</th>\n",
       "      <td>3</td>\n",
       "      <td>0.234</td>\n",
       "      <td>0.738</td>\n",
       "      <td>0.0</td>\n",
       "      <td>0.0</td>\n",
       "      <td>0.006</td>\n",
       "      <td>0.022</td>\n",
       "      <td>0.000</td>\n",
       "    </tr>\n",
       "    <tr>\n",
       "      <th>4</th>\n",
       "      <td>4</td>\n",
       "      <td>0.138</td>\n",
       "      <td>0.836</td>\n",
       "      <td>0.0</td>\n",
       "      <td>0.0</td>\n",
       "      <td>0.000</td>\n",
       "      <td>0.000</td>\n",
       "      <td>0.026</td>\n",
       "    </tr>\n",
       "  </tbody>\n",
       "</table>\n",
       "</div>"
      ],
      "text/plain": [
       "   id    Y_1    Y_2  Y_3  Y_4    Y_5    Y_6    Y_7\n",
       "0   0  0.240  0.760  0.0  0.0  0.000  0.000  0.000\n",
       "1   1  0.064  0.936  0.0  0.0  0.000  0.000  0.000\n",
       "2   2  0.740  0.260  0.0  0.0  0.000  0.000  0.000\n",
       "3   3  0.234  0.738  0.0  0.0  0.006  0.022  0.000\n",
       "4   4  0.138  0.836  0.0  0.0  0.000  0.000  0.026"
      ]
     },
     "execution_count": 19,
     "metadata": {},
     "output_type": "execute_result"
    }
   ],
   "source": [
    "pred_prob_test = pd.DataFrame(model.predict_proba(X_test_final))\n",
    "pred_prob_test.rename(columns = {0: 'Y_1', 1: 'Y_2', 2: 'Y_3', 3: 'Y_4', 4: 'Y_5', 5:'Y_6', 6:'Y_7'}, inplace = True)\n",
    "idx = pred_prob_test.index\n",
    "pred_prob_test.insert(0, 'id', idx)\n",
    "pred_prob_test.head()"
   ]
  },
  {
   "cell_type": "code",
   "execution_count": 43,
   "metadata": {},
   "outputs": [],
   "source": [
    "pred_prob_test.to_csv(\"model/group13RFmodified.csv\", index=False)"
   ]
  },
  {
   "attachments": {},
   "cell_type": "markdown",
   "metadata": {},
   "source": [
    "ON ESSAY DE FAIRE AVEC KNN"
   ]
  },
  {
   "cell_type": "code",
   "execution_count": 44,
   "metadata": {},
   "outputs": [
    {
     "data": {
      "text/html": [
       "<div>\n",
       "<style scoped>\n",
       "    .dataframe tbody tr th:only-of-type {\n",
       "        vertical-align: middle;\n",
       "    }\n",
       "\n",
       "    .dataframe tbody tr th {\n",
       "        vertical-align: top;\n",
       "    }\n",
       "\n",
       "    .dataframe thead th {\n",
       "        text-align: right;\n",
       "    }\n",
       "</style>\n",
       "<table border=\"1\" class=\"dataframe\">\n",
       "  <thead>\n",
       "    <tr style=\"text-align: right;\">\n",
       "      <th></th>\n",
       "      <th>X1</th>\n",
       "      <th>X2</th>\n",
       "      <th>X3</th>\n",
       "      <th>X4</th>\n",
       "      <th>X5</th>\n",
       "      <th>X6</th>\n",
       "      <th>X7</th>\n",
       "      <th>X8</th>\n",
       "      <th>X9</th>\n",
       "      <th>X10</th>\n",
       "      <th>X11</th>\n",
       "      <th>X12</th>\n",
       "      <th>Y</th>\n",
       "    </tr>\n",
       "  </thead>\n",
       "  <tbody>\n",
       "    <tr>\n",
       "      <th>0</th>\n",
       "      <td>3215.0</td>\n",
       "      <td>206.0</td>\n",
       "      <td>8.0</td>\n",
       "      <td>127.0</td>\n",
       "      <td>14.0</td>\n",
       "      <td>5588.0</td>\n",
       "      <td>215.0</td>\n",
       "      <td>248.0</td>\n",
       "      <td>168.0</td>\n",
       "      <td>1057.0</td>\n",
       "      <td>T1</td>\n",
       "      <td>T29</td>\n",
       "      <td>1.0</td>\n",
       "    </tr>\n",
       "    <tr>\n",
       "      <th>1</th>\n",
       "      <td>3022.0</td>\n",
       "      <td>18.0</td>\n",
       "      <td>7.0</td>\n",
       "      <td>0.0</td>\n",
       "      <td>0.0</td>\n",
       "      <td>3012.0</td>\n",
       "      <td>215.0</td>\n",
       "      <td>226.0</td>\n",
       "      <td>148.0</td>\n",
       "      <td>1476.0</td>\n",
       "      <td>T1</td>\n",
       "      <td>T23</td>\n",
       "      <td>1.0</td>\n",
       "    </tr>\n",
       "    <tr>\n",
       "      <th>2</th>\n",
       "      <td>3008.0</td>\n",
       "      <td>18.0</td>\n",
       "      <td>19.0</td>\n",
       "      <td>382.0</td>\n",
       "      <td>92.0</td>\n",
       "      <td>4715.0</td>\n",
       "      <td>201.0</td>\n",
       "      <td>197.0</td>\n",
       "      <td>127.0</td>\n",
       "      <td>3616.0</td>\n",
       "      <td>T1</td>\n",
       "      <td>T29</td>\n",
       "      <td>1.0</td>\n",
       "    </tr>\n",
       "    <tr>\n",
       "      <th>3</th>\n",
       "      <td>2595.0</td>\n",
       "      <td>296.0</td>\n",
       "      <td>24.0</td>\n",
       "      <td>85.0</td>\n",
       "      <td>28.0</td>\n",
       "      <td>1252.0</td>\n",
       "      <td>144.0</td>\n",
       "      <td>224.0</td>\n",
       "      <td>216.0</td>\n",
       "      <td>780.0</td>\n",
       "      <td>T3</td>\n",
       "      <td>T33</td>\n",
       "      <td>6.0</td>\n",
       "    </tr>\n",
       "    <tr>\n",
       "      <th>4</th>\n",
       "      <td>3261.0</td>\n",
       "      <td>87.0</td>\n",
       "      <td>4.0</td>\n",
       "      <td>42.0</td>\n",
       "      <td>-2.0</td>\n",
       "      <td>3719.0</td>\n",
       "      <td>226.0</td>\n",
       "      <td>233.0</td>\n",
       "      <td>142.0</td>\n",
       "      <td>3784.0</td>\n",
       "      <td>T1</td>\n",
       "      <td>T38</td>\n",
       "      <td>7.0</td>\n",
       "    </tr>\n",
       "  </tbody>\n",
       "</table>\n",
       "</div>"
      ],
      "text/plain": [
       "       X1     X2    X3     X4    X5      X6     X7     X8     X9     X10 X11  \\\n",
       "0  3215.0  206.0   8.0  127.0  14.0  5588.0  215.0  248.0  168.0  1057.0  T1   \n",
       "1  3022.0   18.0   7.0    0.0   0.0  3012.0  215.0  226.0  148.0  1476.0  T1   \n",
       "2  3008.0   18.0  19.0  382.0  92.0  4715.0  201.0  197.0  127.0  3616.0  T1   \n",
       "3  2595.0  296.0  24.0   85.0  28.0  1252.0  144.0  224.0  216.0   780.0  T3   \n",
       "4  3261.0   87.0   4.0   42.0  -2.0  3719.0  226.0  233.0  142.0  3784.0  T1   \n",
       "\n",
       "   X12    Y  \n",
       "0  T29  1.0  \n",
       "1  T23  1.0  \n",
       "2  T29  1.0  \n",
       "3  T33  6.0  \n",
       "4  T38  7.0  "
      ]
     },
     "execution_count": 44,
     "metadata": {},
     "output_type": "execute_result"
    }
   ],
   "source": [
    "df_train = pd.read_csv('data/train.csv')\n",
    "df_train.dropna(subset=['Y'], inplace=True)\n",
    "\n",
    "X = df_train.drop('Y', axis = 1)\n",
    "y = df_train['Y']\n",
    "\n",
    "\n",
    "X_test_prueb = pd.read_csv('data/Xtest.csv')\n",
    "df_train.head()"
   ]
  },
  {
   "cell_type": "code",
   "execution_count": 45,
   "metadata": {},
   "outputs": [],
   "source": [
    "X = X.astype({'X11':'category', 'X12': 'category'})\n",
    "X_test_prueb = X_test_prueb.astype({'X11':'category', 'X12':'category'})"
   ]
  },
  {
   "cell_type": "code",
   "execution_count": 51,
   "metadata": {},
   "outputs": [],
   "source": [
    "columna = ['X11']\n",
    "imputer = SimpleImputer(strategy='most_frequent')\n",
    "\n",
    "X_train[columna] = imputer.fit_transform(X_train[columna])\n",
    "X_test[columna] = imputer.fit_transform(X_test[columna])\n",
    "\n",
    "X_train_cat = pd.DataFrame(X_train[columna])\n",
    "X_test_cat = pd.DataFrame(X_test[columna])\n",
    "\n",
    "columnas = ['X1', 'X3','X4', 'X6', 'X9', 'X10']\n",
    "\n",
    "# Rellenar los valores faltantes con la media\n",
    "imputer = SimpleImputer(strategy='mean')\n",
    "X_train[columnas] = imputer.fit_transform(X_train[columnas])\n",
    "X_test[columnas] = imputer.fit_transform(X_test[columnas])\n",
    "\n",
    "# Convertir a un array de numpy\n",
    "X_train_sub = pd.DataFrame(X_train[columnas])\n",
    "X_test_sub = pd.DataFrame(X_test[columnas])"
   ]
  },
  {
   "cell_type": "code",
   "execution_count": 52,
   "metadata": {},
   "outputs": [
    {
     "name": "stderr",
     "output_type": "stream",
     "text": [
      "c:\\Users\\cmari\\AppData\\Local\\Programs\\Python\\Python311\\Lib\\site-packages\\sklearn\\preprocessing\\_encoders.py:828: FutureWarning: `sparse` was renamed to `sparse_output` in version 1.2 and will be removed in 1.4. `sparse_output` is ignored unless you leave `sparse` to its default value.\n",
      "  warnings.warn(\n",
      "c:\\Users\\cmari\\AppData\\Local\\Programs\\Python\\Python311\\Lib\\site-packages\\sklearn\\preprocessing\\_encoders.py:828: FutureWarning: `sparse` was renamed to `sparse_output` in version 1.2 and will be removed in 1.4. `sparse_output` is ignored unless you leave `sparse` to its default value.\n",
      "  warnings.warn(\n",
      "c:\\Users\\cmari\\AppData\\Local\\Programs\\Python\\Python311\\Lib\\site-packages\\sklearn\\preprocessing\\_encoders.py:828: FutureWarning: `sparse` was renamed to `sparse_output` in version 1.2 and will be removed in 1.4. `sparse_output` is ignored unless you leave `sparse` to its default value.\n",
      "  warnings.warn(\n"
     ]
    },
    {
     "name": "stdout",
     "output_type": "stream",
     "text": [
      "Log loss: 0.5391230325524583\n",
      "Accuracy: 0.8033714777900824\n"
     ]
    },
    {
     "data": {
      "text/html": [
       "<div>\n",
       "<style scoped>\n",
       "    .dataframe tbody tr th:only-of-type {\n",
       "        vertical-align: middle;\n",
       "    }\n",
       "\n",
       "    .dataframe tbody tr th {\n",
       "        vertical-align: top;\n",
       "    }\n",
       "\n",
       "    .dataframe thead th {\n",
       "        text-align: right;\n",
       "    }\n",
       "</style>\n",
       "<table border=\"1\" class=\"dataframe\">\n",
       "  <thead>\n",
       "    <tr style=\"text-align: right;\">\n",
       "      <th></th>\n",
       "      <th>id</th>\n",
       "      <th>Y_1</th>\n",
       "      <th>Y_2</th>\n",
       "      <th>Y_3</th>\n",
       "      <th>Y_4</th>\n",
       "      <th>Y_5</th>\n",
       "      <th>Y_6</th>\n",
       "      <th>Y_7</th>\n",
       "    </tr>\n",
       "  </thead>\n",
       "  <tbody>\n",
       "    <tr>\n",
       "      <th>0</th>\n",
       "      <td>0</td>\n",
       "      <td>0.139594</td>\n",
       "      <td>0.860406</td>\n",
       "      <td>0.0</td>\n",
       "      <td>0.0</td>\n",
       "      <td>0.0</td>\n",
       "      <td>0.0</td>\n",
       "      <td>0.000000</td>\n",
       "    </tr>\n",
       "    <tr>\n",
       "      <th>1</th>\n",
       "      <td>1</td>\n",
       "      <td>0.000000</td>\n",
       "      <td>1.000000</td>\n",
       "      <td>0.0</td>\n",
       "      <td>0.0</td>\n",
       "      <td>0.0</td>\n",
       "      <td>0.0</td>\n",
       "      <td>0.000000</td>\n",
       "    </tr>\n",
       "    <tr>\n",
       "      <th>2</th>\n",
       "      <td>2</td>\n",
       "      <td>0.609349</td>\n",
       "      <td>0.390651</td>\n",
       "      <td>0.0</td>\n",
       "      <td>0.0</td>\n",
       "      <td>0.0</td>\n",
       "      <td>0.0</td>\n",
       "      <td>0.000000</td>\n",
       "    </tr>\n",
       "    <tr>\n",
       "      <th>3</th>\n",
       "      <td>3</td>\n",
       "      <td>0.144810</td>\n",
       "      <td>0.855190</td>\n",
       "      <td>0.0</td>\n",
       "      <td>0.0</td>\n",
       "      <td>0.0</td>\n",
       "      <td>0.0</td>\n",
       "      <td>0.000000</td>\n",
       "    </tr>\n",
       "    <tr>\n",
       "      <th>4</th>\n",
       "      <td>4</td>\n",
       "      <td>0.385512</td>\n",
       "      <td>0.500332</td>\n",
       "      <td>0.0</td>\n",
       "      <td>0.0</td>\n",
       "      <td>0.0</td>\n",
       "      <td>0.0</td>\n",
       "      <td>0.114156</td>\n",
       "    </tr>\n",
       "  </tbody>\n",
       "</table>\n",
       "</div>"
      ],
      "text/plain": [
       "   id       Y_1       Y_2  Y_3  Y_4  Y_5  Y_6       Y_7\n",
       "0   0  0.139594  0.860406  0.0  0.0  0.0  0.0  0.000000\n",
       "1   1  0.000000  1.000000  0.0  0.0  0.0  0.0  0.000000\n",
       "2   2  0.609349  0.390651  0.0  0.0  0.0  0.0  0.000000\n",
       "3   3  0.144810  0.855190  0.0  0.0  0.0  0.0  0.000000\n",
       "4   4  0.385512  0.500332  0.0  0.0  0.0  0.0  0.114156"
      ]
     },
     "execution_count": 52,
     "metadata": {},
     "output_type": "execute_result"
    }
   ],
   "source": [
    "X_train_num  = X_train_sub[['X1', 'X3','X4','X6','X9', 'X10']]\n",
    "X_train_cat = X_train[['X11']]\n",
    "X_test_num = X_test_sub[['X1', 'X3','X4', 'X6','X9','X10']]\n",
    "X_test_cat = X_test[['X11']]\n",
    "\n",
    "\n",
    "\n",
    "\n",
    "ohe = OneHotEncoder(sparse=False)\n",
    "X_train_categorical_encoded = ohe.fit_transform(X_train_cat)\n",
    "X_test_cat_encoded = ohe.fit_transform(X_test_cat)\n",
    "\n",
    "\n",
    "#The real test\n",
    "X_test_prueb_num = X_test_prueb[['X1', 'X3','X4' ,'X6','X9','X10']]\n",
    "X_test_prueb_cat = X_test_prueb[['X11']]\n",
    "X_prueb_cat_encoded = ohe.fit_transform(X_test_prueb_cat)\n",
    "\n",
    "X_test_final = np.concatenate((X_test_prueb_num, X_prueb_cat_encoded), axis=1)\n",
    "\n",
    "\n",
    "\n",
    "X_train_sub = np.concatenate((X_train_num, X_train_categorical_encoded), axis=1)\n",
    "X_test_num = np.concatenate((X_test_num, X_test_cat_encoded), axis=1)\n",
    "\n",
    "\n",
    "param_grid_knn = {\n",
    "    'n_neighbors': [3, 5, 10, 20, 50, 100],\n",
    "    'weights': ['uniform', 'distance'],\n",
    "    'p': [1, 2],\n",
    "}\n",
    "\n",
    "default_grid_params = dict(n_iter=10, cv=5, n_jobs=4)\n",
    "\n",
    "knn = KNeighborsClassifier()\n",
    "\n",
    "model = RandomizedSearchCV(knn, param_grid_knn, scoring='neg_log_loss', **default_grid_params)\n",
    "model.fit(X_train_sub, y_train)\n",
    "\n",
    "results = []\n",
    "y_pred_proba = model.predict_proba(X_test_num)\n",
    "test_log_loss = log_loss(y_test, y_pred_proba, labels=model.classes_)\n",
    "print('Log loss:', test_log_loss)\n",
    "\n",
    "y_pred = model.predict(X_test_num)\n",
    "test_accuracy = accuracy_score(y_test, y_pred)\n",
    "print('Accuracy:', test_accuracy)\n",
    "\n",
    "results.append([test_log_loss,test_accuracy])\n",
    "pred_prob_test = pd.DataFrame(model.predict_proba(X_test_final))\n",
    "pred_prob_test.rename(columns = {0: 'Y_1', 1: 'Y_2', 2: 'Y_3', 3: 'Y_4', 4: 'Y_5', 5:'Y_6', 6:'Y_7'}, inplace = True)\n",
    "idx = pred_prob_test.index\n",
    "pred_prob_test.insert(0, 'id', idx)\n",
    "pred_prob_test.head()"
   ]
  },
  {
   "attachments": {},
   "cell_type": "markdown",
   "metadata": {},
   "source": [
    "NOW LOGISTIC REGRESSIOn"
   ]
  },
  {
   "cell_type": "code",
   "execution_count": 65,
   "metadata": {},
   "outputs": [
    {
     "data": {
      "text/html": [
       "<div>\n",
       "<style scoped>\n",
       "    .dataframe tbody tr th:only-of-type {\n",
       "        vertical-align: middle;\n",
       "    }\n",
       "\n",
       "    .dataframe tbody tr th {\n",
       "        vertical-align: top;\n",
       "    }\n",
       "\n",
       "    .dataframe thead th {\n",
       "        text-align: right;\n",
       "    }\n",
       "</style>\n",
       "<table border=\"1\" class=\"dataframe\">\n",
       "  <thead>\n",
       "    <tr style=\"text-align: right;\">\n",
       "      <th></th>\n",
       "      <th>X1</th>\n",
       "      <th>X2</th>\n",
       "      <th>X3</th>\n",
       "      <th>X4</th>\n",
       "      <th>X5</th>\n",
       "      <th>X6</th>\n",
       "      <th>X7</th>\n",
       "      <th>X8</th>\n",
       "      <th>X9</th>\n",
       "      <th>X10</th>\n",
       "      <th>X11</th>\n",
       "      <th>X12</th>\n",
       "      <th>Y</th>\n",
       "    </tr>\n",
       "  </thead>\n",
       "  <tbody>\n",
       "    <tr>\n",
       "      <th>0</th>\n",
       "      <td>3215.0</td>\n",
       "      <td>206.0</td>\n",
       "      <td>8.0</td>\n",
       "      <td>127.0</td>\n",
       "      <td>14.0</td>\n",
       "      <td>5588.0</td>\n",
       "      <td>215.0</td>\n",
       "      <td>248.0</td>\n",
       "      <td>168.0</td>\n",
       "      <td>1057.0</td>\n",
       "      <td>T1</td>\n",
       "      <td>T29</td>\n",
       "      <td>1.0</td>\n",
       "    </tr>\n",
       "    <tr>\n",
       "      <th>1</th>\n",
       "      <td>3022.0</td>\n",
       "      <td>18.0</td>\n",
       "      <td>7.0</td>\n",
       "      <td>0.0</td>\n",
       "      <td>0.0</td>\n",
       "      <td>3012.0</td>\n",
       "      <td>215.0</td>\n",
       "      <td>226.0</td>\n",
       "      <td>148.0</td>\n",
       "      <td>1476.0</td>\n",
       "      <td>T1</td>\n",
       "      <td>T23</td>\n",
       "      <td>1.0</td>\n",
       "    </tr>\n",
       "    <tr>\n",
       "      <th>2</th>\n",
       "      <td>3008.0</td>\n",
       "      <td>18.0</td>\n",
       "      <td>19.0</td>\n",
       "      <td>382.0</td>\n",
       "      <td>92.0</td>\n",
       "      <td>4715.0</td>\n",
       "      <td>201.0</td>\n",
       "      <td>197.0</td>\n",
       "      <td>127.0</td>\n",
       "      <td>3616.0</td>\n",
       "      <td>T1</td>\n",
       "      <td>T29</td>\n",
       "      <td>1.0</td>\n",
       "    </tr>\n",
       "    <tr>\n",
       "      <th>3</th>\n",
       "      <td>2595.0</td>\n",
       "      <td>296.0</td>\n",
       "      <td>24.0</td>\n",
       "      <td>85.0</td>\n",
       "      <td>28.0</td>\n",
       "      <td>1252.0</td>\n",
       "      <td>144.0</td>\n",
       "      <td>224.0</td>\n",
       "      <td>216.0</td>\n",
       "      <td>780.0</td>\n",
       "      <td>T3</td>\n",
       "      <td>T33</td>\n",
       "      <td>6.0</td>\n",
       "    </tr>\n",
       "    <tr>\n",
       "      <th>4</th>\n",
       "      <td>3261.0</td>\n",
       "      <td>87.0</td>\n",
       "      <td>4.0</td>\n",
       "      <td>42.0</td>\n",
       "      <td>-2.0</td>\n",
       "      <td>3719.0</td>\n",
       "      <td>226.0</td>\n",
       "      <td>233.0</td>\n",
       "      <td>142.0</td>\n",
       "      <td>3784.0</td>\n",
       "      <td>T1</td>\n",
       "      <td>T38</td>\n",
       "      <td>7.0</td>\n",
       "    </tr>\n",
       "  </tbody>\n",
       "</table>\n",
       "</div>"
      ],
      "text/plain": [
       "       X1     X2    X3     X4    X5      X6     X7     X8     X9     X10 X11  \\\n",
       "0  3215.0  206.0   8.0  127.0  14.0  5588.0  215.0  248.0  168.0  1057.0  T1   \n",
       "1  3022.0   18.0   7.0    0.0   0.0  3012.0  215.0  226.0  148.0  1476.0  T1   \n",
       "2  3008.0   18.0  19.0  382.0  92.0  4715.0  201.0  197.0  127.0  3616.0  T1   \n",
       "3  2595.0  296.0  24.0   85.0  28.0  1252.0  144.0  224.0  216.0   780.0  T3   \n",
       "4  3261.0   87.0   4.0   42.0  -2.0  3719.0  226.0  233.0  142.0  3784.0  T1   \n",
       "\n",
       "   X12    Y  \n",
       "0  T29  1.0  \n",
       "1  T23  1.0  \n",
       "2  T29  1.0  \n",
       "3  T33  6.0  \n",
       "4  T38  7.0  "
      ]
     },
     "execution_count": 65,
     "metadata": {},
     "output_type": "execute_result"
    }
   ],
   "source": [
    "df_train = pd.read_csv('data/train.csv')\n",
    "df_train.dropna(subset=['Y'], inplace=True)\n",
    "\n",
    "X = df_train.drop('Y', axis = 1)\n",
    "y = df_train['Y']\n",
    "\n",
    "\n",
    "X_test_prueb = pd.read_csv('data/Xtest.csv')\n",
    "df_train.head()"
   ]
  },
  {
   "cell_type": "code",
   "execution_count": 66,
   "metadata": {},
   "outputs": [],
   "source": [
    "X = X.astype({'X11':'category', 'X12': 'category'})\n",
    "X_test_prueb = X_test_prueb.astype({'X11':'category', 'X12':'category'})"
   ]
  },
  {
   "cell_type": "code",
   "execution_count": 67,
   "metadata": {},
   "outputs": [],
   "source": [
    "columna = ['X11']\n",
    "imputer = SimpleImputer(strategy='most_frequent')\n",
    "\n",
    "X_train[columna] = imputer.fit_transform(X_train[columna])\n",
    "X_test[columna] = imputer.fit_transform(X_test[columna])\n",
    "\n",
    "X_train_cat = pd.DataFrame(X_train[columna])\n",
    "X_test_cat = pd.DataFrame(X_test[columna])\n",
    "\n",
    "columnas = ['X1', 'X3','X4', 'X6', 'X9', 'X10']\n",
    "\n",
    "# Rellenar los valores faltantes con la media\n",
    "imputer = SimpleImputer(strategy='mean')\n",
    "X_train[columnas] = imputer.fit_transform(X_train[columnas])\n",
    "X_test[columnas] = imputer.fit_transform(X_test[columnas])\n",
    "\n",
    "# Convertir a un array de numpy\n",
    "X_train_sub = pd.DataFrame(X_train[columnas])\n",
    "X_test_sub = pd.DataFrame(X_test[columnas])"
   ]
  },
  {
   "cell_type": "code",
   "execution_count": 68,
   "metadata": {},
   "outputs": [
    {
     "name": "stderr",
     "output_type": "stream",
     "text": [
      "c:\\Users\\cmari\\AppData\\Local\\Programs\\Python\\Python311\\Lib\\site-packages\\sklearn\\preprocessing\\_encoders.py:828: FutureWarning: `sparse` was renamed to `sparse_output` in version 1.2 and will be removed in 1.4. `sparse_output` is ignored unless you leave `sparse` to its default value.\n",
      "  warnings.warn(\n",
      "c:\\Users\\cmari\\AppData\\Local\\Programs\\Python\\Python311\\Lib\\site-packages\\sklearn\\preprocessing\\_encoders.py:828: FutureWarning: `sparse` was renamed to `sparse_output` in version 1.2 and will be removed in 1.4. `sparse_output` is ignored unless you leave `sparse` to its default value.\n",
      "  warnings.warn(\n",
      "c:\\Users\\cmari\\AppData\\Local\\Programs\\Python\\Python311\\Lib\\site-packages\\sklearn\\preprocessing\\_encoders.py:828: FutureWarning: `sparse` was renamed to `sparse_output` in version 1.2 and will be removed in 1.4. `sparse_output` is ignored unless you leave `sparse` to its default value.\n",
      "  warnings.warn(\n",
      "c:\\Users\\cmari\\AppData\\Local\\Programs\\Python\\Python311\\Lib\\site-packages\\sklearn\\model_selection\\_search.py:305: UserWarning: The total space of parameters 8 is smaller than n_iter=10. Running 8 iterations. For exhaustive searches, use GridSearchCV.\n",
      "  warnings.warn(\n"
     ]
    },
    {
     "name": "stdout",
     "output_type": "stream",
     "text": [
      "Log loss: 0.9635100286145513\n",
      "Accuracy: 0.6489479512735327\n"
     ]
    },
    {
     "data": {
      "text/html": [
       "<div>\n",
       "<style scoped>\n",
       "    .dataframe tbody tr th:only-of-type {\n",
       "        vertical-align: middle;\n",
       "    }\n",
       "\n",
       "    .dataframe tbody tr th {\n",
       "        vertical-align: top;\n",
       "    }\n",
       "\n",
       "    .dataframe thead th {\n",
       "        text-align: right;\n",
       "    }\n",
       "</style>\n",
       "<table border=\"1\" class=\"dataframe\">\n",
       "  <thead>\n",
       "    <tr style=\"text-align: right;\">\n",
       "      <th></th>\n",
       "      <th>id</th>\n",
       "      <th>Y_1</th>\n",
       "      <th>Y_2</th>\n",
       "      <th>Y_3</th>\n",
       "      <th>Y_4</th>\n",
       "      <th>Y_5</th>\n",
       "      <th>Y_6</th>\n",
       "      <th>Y_7</th>\n",
       "    </tr>\n",
       "  </thead>\n",
       "  <tbody>\n",
       "    <tr>\n",
       "      <th>0</th>\n",
       "      <td>0</td>\n",
       "      <td>0.251425</td>\n",
       "      <td>0.677400</td>\n",
       "      <td>0.013163</td>\n",
       "      <td>0.000899</td>\n",
       "      <td>0.007743</td>\n",
       "      <td>0.006331</td>\n",
       "      <td>0.043039</td>\n",
       "    </tr>\n",
       "    <tr>\n",
       "      <th>1</th>\n",
       "      <td>1</td>\n",
       "      <td>0.224739</td>\n",
       "      <td>0.688996</td>\n",
       "      <td>0.022684</td>\n",
       "      <td>0.001869</td>\n",
       "      <td>0.013075</td>\n",
       "      <td>0.006321</td>\n",
       "      <td>0.042317</td>\n",
       "    </tr>\n",
       "    <tr>\n",
       "      <th>2</th>\n",
       "      <td>2</td>\n",
       "      <td>0.469212</td>\n",
       "      <td>0.476881</td>\n",
       "      <td>0.003297</td>\n",
       "      <td>0.000153</td>\n",
       "      <td>0.002248</td>\n",
       "      <td>0.004134</td>\n",
       "      <td>0.044076</td>\n",
       "    </tr>\n",
       "    <tr>\n",
       "      <th>3</th>\n",
       "      <td>3</td>\n",
       "      <td>0.225024</td>\n",
       "      <td>0.660403</td>\n",
       "      <td>0.039550</td>\n",
       "      <td>0.004014</td>\n",
       "      <td>0.022915</td>\n",
       "      <td>0.005760</td>\n",
       "      <td>0.042335</td>\n",
       "    </tr>\n",
       "    <tr>\n",
       "      <th>4</th>\n",
       "      <td>4</td>\n",
       "      <td>0.610566</td>\n",
       "      <td>0.328024</td>\n",
       "      <td>0.009299</td>\n",
       "      <td>0.000697</td>\n",
       "      <td>0.006947</td>\n",
       "      <td>0.002324</td>\n",
       "      <td>0.042144</td>\n",
       "    </tr>\n",
       "  </tbody>\n",
       "</table>\n",
       "</div>"
      ],
      "text/plain": [
       "   id       Y_1       Y_2       Y_3       Y_4       Y_5       Y_6       Y_7\n",
       "0   0  0.251425  0.677400  0.013163  0.000899  0.007743  0.006331  0.043039\n",
       "1   1  0.224739  0.688996  0.022684  0.001869  0.013075  0.006321  0.042317\n",
       "2   2  0.469212  0.476881  0.003297  0.000153  0.002248  0.004134  0.044076\n",
       "3   3  0.225024  0.660403  0.039550  0.004014  0.022915  0.005760  0.042335\n",
       "4   4  0.610566  0.328024  0.009299  0.000697  0.006947  0.002324  0.042144"
      ]
     },
     "execution_count": 68,
     "metadata": {},
     "output_type": "execute_result"
    }
   ],
   "source": [
    "X_train_num  = X_train_sub[['X1', 'X3','X4','X6','X9', 'X10']]\n",
    "X_train_cat = X_train[['X11']]\n",
    "X_test_num = X_test_sub[['X1', 'X3','X4', 'X6','X9','X10']]\n",
    "X_test_cat = X_test[['X11']]\n",
    "\n",
    "\n",
    "\n",
    "\n",
    "ohe = OneHotEncoder(sparse=False)\n",
    "X_train_categorical_encoded = ohe.fit_transform(X_train_cat)\n",
    "X_test_cat_encoded = ohe.fit_transform(X_test_cat)\n",
    "\n",
    "\n",
    "#The real test\n",
    "X_test_prueb_num = X_test_prueb[['X1', 'X3','X4' ,'X6','X9','X10']]\n",
    "X_test_prueb_cat = X_test_prueb[['X11']]\n",
    "X_prueb_cat_encoded = ohe.fit_transform(X_test_prueb_cat)\n",
    "\n",
    "X_test_final = np.concatenate((X_test_prueb_num, X_prueb_cat_encoded), axis=1)\n",
    "\n",
    "\n",
    "\n",
    "X_train_sub = np.concatenate((X_train_num, X_train_categorical_encoded), axis=1)\n",
    "X_test_num = np.concatenate((X_test_num, X_test_cat_encoded), axis=1)\n",
    "\n",
    "\n",
    "param_grid_lr_skb = {\n",
    "    'skb__k': [3, 5, 7, 9],\n",
    "    'clf__penalty': ['l2'],\n",
    "    'clf__fit_intercept': [True, False],\n",
    "}\n",
    "\n",
    "default_grid_params = dict(n_iter=10, cv=5, n_jobs=4)\n",
    "\n",
    "lr_skb = Pipeline([('skb', SelectKBest()), ('clf', LogisticRegression(max_iter=1000))])\n",
    "\n",
    "model = RandomizedSearchCV(lr_skb, param_grid_lr_skb, scoring='neg_log_loss', **default_grid_params)\n",
    "model.fit(X_train_sub, y_train)\n",
    "\n",
    "results = []\n",
    "y_pred_proba = model.predict_proba(X_test_num)\n",
    "test_log_loss = log_loss(y_test, y_pred_proba, labels=model.classes_)\n",
    "print('Log loss:', test_log_loss)\n",
    "\n",
    "y_pred = model.predict(X_test_num)\n",
    "test_accuracy = accuracy_score(y_test, y_pred)\n",
    "print('Accuracy:', test_accuracy)\n",
    "\n",
    "results.append([test_log_loss,test_accuracy])\n",
    "pred_prob_test = pd.DataFrame(model.predict_proba(X_test_final))\n",
    "pred_prob_test.rename(columns = {0: 'Y_1', 1: 'Y_2', 2: 'Y_3', 3: 'Y_4', 4: 'Y_5', 5:'Y_6', 6:'Y_7'}, inplace = True)\n",
    "idx = pred_prob_test.index\n",
    "pred_prob_test.insert(0, 'id', idx)\n",
    "pred_prob_test.head()"
   ]
  },
  {
   "cell_type": "code",
   "execution_count": null,
   "metadata": {},
   "outputs": [],
   "source": []
  }
 ],
 "metadata": {
  "kernelspec": {
   "display_name": "Python 3",
   "language": "python",
   "name": "python3"
  },
  "language_info": {
   "codemirror_mode": {
    "name": "ipython",
    "version": 3
   },
   "file_extension": ".py",
   "mimetype": "text/x-python",
   "name": "python",
   "nbconvert_exporter": "python",
   "pygments_lexer": "ipython3",
   "version": "3.11.2"
  },
  "orig_nbformat": 4
 },
 "nbformat": 4,
 "nbformat_minor": 2
}
